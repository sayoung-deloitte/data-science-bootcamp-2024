{
  "nbformat": 4,
  "nbformat_minor": 0,
  "metadata": {
    "colab": {
      "provenance": []
    },
    "kernelspec": {
      "name": "python3",
      "display_name": "Python 3"
    },
    "language_info": {
      "name": "python"
    }
  },
  "cells": [
    {
      "cell_type": "code",
      "source": [],
      "metadata": {
        "id": "Sne7hlb3dDPN"
      },
      "execution_count": null,
      "outputs": []
    },
    {
      "cell_type": "code",
      "source": [
        "# Import necessary libraries\n",
        "import tensorflow as tf\n",
        "from tensorflow.keras.models import Sequential\n",
        "from tensorflow.keras.layers import Dense\n",
        "from sklearn.model_selection import train_test_split\n",
        "from sklearn.preprocessing import LabelEncoder\n",
        "from sklearn.datasets import load_iris\n",
        "import pandas as pd\n",
        "import numpy as np\n",
        "from sklearn.preprocessing import StandardScaler"
      ],
      "metadata": {
        "id": "dbY6vnhdS1hs"
      },
      "execution_count": null,
      "outputs": []
    },
    {
      "cell_type": "code",
      "execution_count": null,
      "metadata": {
        "id": "1cq6MAYBM5SF"
      },
      "outputs": [],
      "source": [
        "# Read the data file\n",
        "df ="
      ]
    },
    {
      "cell_type": "code",
      "source": [
        "# Split data into train and test with test_size = 0.1\n",
        "x = df.drop(['Good_Coffee'], axis=1)\n",
        "y = df['Good_Coffee']\n",
        "\n",
        "# split train and test dataset\n"
      ],
      "metadata": {
        "id": "R8V_c_TFOLWZ"
      },
      "execution_count": null,
      "outputs": []
    },
    {
      "cell_type": "code",
      "source": [
        "\n",
        "np.random.seed(42)\n",
        "\n",
        "#Reshape train_y to 1D\n",
        "train_y = train_y.to_numpy().reshape(-1, 1)\n",
        "\n",
        "# Build the neural network model\n",
        "model =\n",
        "# Use 8 neurons for the layer 1 and 1 neuron for output layer\n",
        "# be carefull the activation function you use as we have binary class 0 and 1\n",
        "model.add\n",
        "model.add\n",
        "\n",
        "\n",
        "# Compile the model, use binary_crossentropy for the loss\n",
        "optimizer =\n",
        "model.compile\n",
        "\n",
        "# Train the model using fit function\n",
        "\n",
        "\n",
        "# Evaluate the model on the test set\n",
        "loss, accuracy =\n",
        "print(f\"Test Loss: {loss:.4f}, Test Accuracy: {accuracy*100:.2f}%\")\n",
        "\n",
        "# Make predictions on new data\n",
        "\n",
        "predictions =\n",
        "predicted_classes = (predictions > 0.5).astype(int)\n",
        "\n",
        "print(\"Predictions:\", predictions.flatten())\n",
        "print(\"Predicted Classes:\", predicted_classes.flatten())\n"
      ],
      "metadata": {
        "id": "Thyl7pL8ZbXL"
      },
      "execution_count": null,
      "outputs": []
    },
    {
      "cell_type": "code",
      "source": [
        "# prediction = model.predict(test_x)\n",
        "# y_label=np.argmax(test_y,axis=1)\n",
        "# predict_label=np.argmax(prediction,axis=1)\n",
        "\n",
        "df_predicted = pd.DataFrame({'Actual': test_y, 'Predicted': predicted_classes.flatten()})\n",
        "df_predicted"
      ],
      "metadata": {
        "id": "rI5Pnttoq_D5"
      },
      "execution_count": null,
      "outputs": []
    },
    {
      "cell_type": "code",
      "source": [],
      "metadata": {
        "id": "ttyZetwIra6R"
      },
      "execution_count": null,
      "outputs": []
    },
    {
      "cell_type": "code",
      "source": [],
      "metadata": {
        "id": "1w1GKjfPr-28"
      },
      "execution_count": null,
      "outputs": []
    }
  ]
}