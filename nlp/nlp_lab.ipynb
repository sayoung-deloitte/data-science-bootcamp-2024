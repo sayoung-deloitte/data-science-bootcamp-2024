{
  "cells": [
    {
      "cell_type": "markdown",
      "metadata": {
        "id": "hXML2GuPHxvg"
      },
      "source": [
        "<h1>Applied Text Mining and Sentiment Analysis with Python</h1>\n",
        "\n",
        "In this course we will discover different applications that can be made of text mining. We are going to use this knowledge to focus on a particular NLP application: Sentiment Analysis.\n",
        "\n",
        "***Note***: sometimes, the runtime of Colab might expire. If you see an error, always make sure all the code in previous cells has run correctly."
      ]
    },
    {
      "cell_type": "markdown",
      "metadata": {
        "id": "_H4YR66DPimn"
      },
      "source": [
        "<img src='https://drive.google.com/uc?export=view&id=1GYj-wj-so8jQ9-VDz1ayehgVh39Jmd4H' width=650px>\n",
        "\n",
        "# `Section 1` Dataset Overview\n"
      ]
    },
    {
      "cell_type": "markdown",
      "metadata": {
        "id": "VV1N5kiacX1Z"
      },
      "source": [
        "\n",
        "In this section, we are going to have a look at the dataset that we will use throughout the course."
      ]
    },
    {
      "cell_type": "markdown",
      "metadata": {
        "id": "k0pwA66BACFH"
      },
      "source": [
        "<img src='https://drive.google.com/uc?export=view&id=1GYj-wj-so8jQ9-VDz1ayehgVh39Jmd4H' width=250px>\n",
        "\n",
        "## **1.1** Connect to Google Drive\n"
      ]
    },
    {
      "cell_type": "markdown",
      "metadata": {
        "id": "NIOIlGVUUm-n"
      },
      "source": [
        "* Initiate the connection with Google Drive"
      ]
    },
    {
      "cell_type": "code",
      "execution_count": null,
      "metadata": {
        "id": "cZhLkmUkO59g"
      },
      "outputs": [],
      "source": [
        "# Import PyDrive and associated libraries\n",
        "# This only needs to be done once per notebook\n",
        "from pydrive.auth import GoogleAuth\n",
        "from pydrive.drive import GoogleDrive\n",
        "from google.colab import auth\n",
        "from oauth2client.client import GoogleCredentials\n",
        "\n",
        "# Authenticate and create the PyDrive client\n",
        "# This only needs to be done once per notebook\n",
        "auth.authenticate_user()\n",
        "gauth = GoogleAuth()\n",
        "gauth.credentials = GoogleCredentials.get_application_default()\n",
        "drive = GoogleDrive(gauth)"
      ]
    },
    {
      "cell_type": "markdown",
      "metadata": {
        "id": "SESTuTU_T8WO"
      },
      "source": [
        "* Specify the Google Drive file ID\n",
        "  1. Navigate to the Google Drive folder where your `tweet_data.csv` file is located\n",
        "  2. Right click on the file and click \"Share\" > \"Copy Link\"\n",
        "  3. The FILE_ID is the unique identifier that follows \"/file/d/\" and ends before \"/view\" in the link. Copy this identifier\n",
        "  4. For example, in the link `https://drive.google.com/file/d/ABC123/view`, the file ID is **ABC123**"
      ]
    },
    {
      "cell_type": "code",
      "execution_count": null,
      "metadata": {
        "id": "Rxz1za_qBYRt"
      },
      "outputs": [],
      "source": [
        "# Download a file based on its file ID.\n",
        "\n",
        "# A file ID looks like: 1nEV7avrapV9zc5w-Zqa60XCJ2EbFs0tX\n",
        "file_id = 'YOUR_FILE_ID' # Check your own ID in GDrive\n",
        "downloaded = drive.CreateFile({'id': file_id})\n",
        "\n",
        "# Save file in Colab memory\n",
        "downloaded.GetContentFile('tweet_data.csv')"
      ]
    },
    {
      "cell_type": "markdown",
      "metadata": {
        "id": "i8IZvvYyA9sr"
      },
      "source": [
        "<img src='https://drive.google.com/uc?export=view&id=1GYj-wj-so8jQ9-VDz1ayehgVh39Jmd4H' width=250px>\n",
        "\n",
        "## **1.2** Load and analyse Dataset"
      ]
    },
    {
      "cell_type": "markdown",
      "metadata": {
        "id": "P1SvV_1MAXMq"
      },
      "source": [
        "Very useful packages for Data Analysis. Don't hesitate to visit any of those sites in case you don't get what we are doing.\n",
        "*   `Pandas`: https://pandas.pydata.org/docs/\n",
        "*   `Numpy`: https://numpy.org/doc/\n",
        "\n",
        "\n",
        "\n"
      ]
    },
    {
      "cell_type": "code",
      "execution_count": null,
      "metadata": {
        "id": "-K4rZaHvkJhd"
      },
      "outputs": [],
      "source": [
        "import pandas as pd\n",
        "import numpy as np"
      ]
    },
    {
      "cell_type": "code",
      "execution_count": null,
      "metadata": {
        "id": "BMVYdAbhkSEv"
      },
      "outputs": [],
      "source": [
        "df = pd.read_csv(\"tweet_data.csv\")"
      ]
    },
    {
      "cell_type": "markdown",
      "metadata": {
        "id": "nxeev34FBIJH"
      },
      "source": [
        "* Use the `sample` method to look at some random tweets present in our dataset"
      ]
    },
    {
      "cell_type": "code",
      "execution_count": null,
      "metadata": {
        "colab": {
          "base_uri": "https://localhost:8080/",
          "height": 206
        },
        "id": "X_ePfKnQkiHh",
        "outputId": "f54fa94b-e7f8-4a61-af7f-849d496d2dd1"
      },
      "outputs": [
        {
          "data": {
            "text/html": [
              "\n",
              "  <div id=\"df-0c81ca90-cc8c-4716-8e33-cc771c5eea3e\" class=\"colab-df-container\">\n",
              "    <div>\n",
              "<style scoped>\n",
              "    .dataframe tbody tr th:only-of-type {\n",
              "        vertical-align: middle;\n",
              "    }\n",
              "\n",
              "    .dataframe tbody tr th {\n",
              "        vertical-align: top;\n",
              "    }\n",
              "\n",
              "    .dataframe thead th {\n",
              "        text-align: right;\n",
              "    }\n",
              "</style>\n",
              "<table border=\"1\" class=\"dataframe\">\n",
              "  <thead>\n",
              "    <tr style=\"text-align: right;\">\n",
              "      <th></th>\n",
              "      <th>textID</th>\n",
              "      <th>tweet_text</th>\n",
              "      <th>sentiment</th>\n",
              "    </tr>\n",
              "  </thead>\n",
              "  <tbody>\n",
              "    <tr>\n",
              "      <th>6213</th>\n",
              "      <td>1963907471</td>\n",
              "      <td>reyt fancies a valentinos. Worst of times cons...</td>\n",
              "      <td>negative</td>\n",
              "    </tr>\n",
              "    <tr>\n",
              "      <th>10605</th>\n",
              "      <td>1694438163</td>\n",
              "      <td>@dutchreaganite ROFLMAO! I feel inspired to go...</td>\n",
              "      <td>positive</td>\n",
              "    </tr>\n",
              "    <tr>\n",
              "      <th>4607</th>\n",
              "      <td>1962685720</td>\n",
              "      <td>@sianhughes_ oh god i just watched it to!! did...</td>\n",
              "      <td>negative</td>\n",
              "    </tr>\n",
              "    <tr>\n",
              "      <th>10301</th>\n",
              "      <td>1694312532</td>\n",
              "      <td>just cos i dont have an ipod touch yet - doesn...</td>\n",
              "      <td>positive</td>\n",
              "    </tr>\n",
              "    <tr>\n",
              "      <th>13336</th>\n",
              "      <td>1750931079</td>\n",
              "      <td>Sometimes i feel pathetic going to bed so earl...</td>\n",
              "      <td>negative</td>\n",
              "    </tr>\n",
              "  </tbody>\n",
              "</table>\n",
              "</div>\n",
              "    <div class=\"colab-df-buttons\">\n",
              "\n",
              "  <div class=\"colab-df-container\">\n",
              "    <button class=\"colab-df-convert\" onclick=\"convertToInteractive('df-0c81ca90-cc8c-4716-8e33-cc771c5eea3e')\"\n",
              "            title=\"Convert this dataframe to an interactive table.\"\n",
              "            style=\"display:none;\">\n",
              "\n",
              "  <svg xmlns=\"http://www.w3.org/2000/svg\" height=\"24px\" viewBox=\"0 -960 960 960\">\n",
              "    <path d=\"M120-120v-720h720v720H120Zm60-500h600v-160H180v160Zm220 220h160v-160H400v160Zm0 220h160v-160H400v160ZM180-400h160v-160H180v160Zm440 0h160v-160H620v160ZM180-180h160v-160H180v160Zm440 0h160v-160H620v160Z\"/>\n",
              "  </svg>\n",
              "    </button>\n",
              "\n",
              "  <style>\n",
              "    .colab-df-container {\n",
              "      display:flex;\n",
              "      gap: 12px;\n",
              "    }\n",
              "\n",
              "    .colab-df-convert {\n",
              "      background-color: #E8F0FE;\n",
              "      border: none;\n",
              "      border-radius: 50%;\n",
              "      cursor: pointer;\n",
              "      display: none;\n",
              "      fill: #1967D2;\n",
              "      height: 32px;\n",
              "      padding: 0 0 0 0;\n",
              "      width: 32px;\n",
              "    }\n",
              "\n",
              "    .colab-df-convert:hover {\n",
              "      background-color: #E2EBFA;\n",
              "      box-shadow: 0px 1px 2px rgba(60, 64, 67, 0.3), 0px 1px 3px 1px rgba(60, 64, 67, 0.15);\n",
              "      fill: #174EA6;\n",
              "    }\n",
              "\n",
              "    .colab-df-buttons div {\n",
              "      margin-bottom: 4px;\n",
              "    }\n",
              "\n",
              "    [theme=dark] .colab-df-convert {\n",
              "      background-color: #3B4455;\n",
              "      fill: #D2E3FC;\n",
              "    }\n",
              "\n",
              "    [theme=dark] .colab-df-convert:hover {\n",
              "      background-color: #434B5C;\n",
              "      box-shadow: 0px 1px 3px 1px rgba(0, 0, 0, 0.15);\n",
              "      filter: drop-shadow(0px 1px 2px rgba(0, 0, 0, 0.3));\n",
              "      fill: #FFFFFF;\n",
              "    }\n",
              "  </style>\n",
              "\n",
              "    <script>\n",
              "      const buttonEl =\n",
              "        document.querySelector('#df-0c81ca90-cc8c-4716-8e33-cc771c5eea3e button.colab-df-convert');\n",
              "      buttonEl.style.display =\n",
              "        google.colab.kernel.accessAllowed ? 'block' : 'none';\n",
              "\n",
              "      async function convertToInteractive(key) {\n",
              "        const element = document.querySelector('#df-0c81ca90-cc8c-4716-8e33-cc771c5eea3e');\n",
              "        const dataTable =\n",
              "          await google.colab.kernel.invokeFunction('convertToInteractive',\n",
              "                                                    [key], {});\n",
              "        if (!dataTable) return;\n",
              "\n",
              "        const docLinkHtml = 'Like what you see? Visit the ' +\n",
              "          '<a target=\"_blank\" href=https://colab.research.google.com/notebooks/data_table.ipynb>data table notebook</a>'\n",
              "          + ' to learn more about interactive tables.';\n",
              "        element.innerHTML = '';\n",
              "        dataTable['output_type'] = 'display_data';\n",
              "        await google.colab.output.renderOutput(dataTable, element);\n",
              "        const docLink = document.createElement('div');\n",
              "        docLink.innerHTML = docLinkHtml;\n",
              "        element.appendChild(docLink);\n",
              "      }\n",
              "    </script>\n",
              "  </div>\n",
              "\n",
              "\n",
              "<div id=\"df-f9bef384-3330-4096-9218-ac05a56f48a9\">\n",
              "  <button class=\"colab-df-quickchart\" onclick=\"quickchart('df-f9bef384-3330-4096-9218-ac05a56f48a9')\"\n",
              "            title=\"Suggest charts\"\n",
              "            style=\"display:none;\">\n",
              "\n",
              "<svg xmlns=\"http://www.w3.org/2000/svg\" height=\"24px\"viewBox=\"0 0 24 24\"\n",
              "     width=\"24px\">\n",
              "    <g>\n",
              "        <path d=\"M19 3H5c-1.1 0-2 .9-2 2v14c0 1.1.9 2 2 2h14c1.1 0 2-.9 2-2V5c0-1.1-.9-2-2-2zM9 17H7v-7h2v7zm4 0h-2V7h2v10zm4 0h-2v-4h2v4z\"/>\n",
              "    </g>\n",
              "</svg>\n",
              "  </button>\n",
              "\n",
              "<style>\n",
              "  .colab-df-quickchart {\n",
              "      --bg-color: #E8F0FE;\n",
              "      --fill-color: #1967D2;\n",
              "      --hover-bg-color: #E2EBFA;\n",
              "      --hover-fill-color: #174EA6;\n",
              "      --disabled-fill-color: #AAA;\n",
              "      --disabled-bg-color: #DDD;\n",
              "  }\n",
              "\n",
              "  [theme=dark] .colab-df-quickchart {\n",
              "      --bg-color: #3B4455;\n",
              "      --fill-color: #D2E3FC;\n",
              "      --hover-bg-color: #434B5C;\n",
              "      --hover-fill-color: #FFFFFF;\n",
              "      --disabled-bg-color: #3B4455;\n",
              "      --disabled-fill-color: #666;\n",
              "  }\n",
              "\n",
              "  .colab-df-quickchart {\n",
              "    background-color: var(--bg-color);\n",
              "    border: none;\n",
              "    border-radius: 50%;\n",
              "    cursor: pointer;\n",
              "    display: none;\n",
              "    fill: var(--fill-color);\n",
              "    height: 32px;\n",
              "    padding: 0;\n",
              "    width: 32px;\n",
              "  }\n",
              "\n",
              "  .colab-df-quickchart:hover {\n",
              "    background-color: var(--hover-bg-color);\n",
              "    box-shadow: 0 1px 2px rgba(60, 64, 67, 0.3), 0 1px 3px 1px rgba(60, 64, 67, 0.15);\n",
              "    fill: var(--button-hover-fill-color);\n",
              "  }\n",
              "\n",
              "  .colab-df-quickchart-complete:disabled,\n",
              "  .colab-df-quickchart-complete:disabled:hover {\n",
              "    background-color: var(--disabled-bg-color);\n",
              "    fill: var(--disabled-fill-color);\n",
              "    box-shadow: none;\n",
              "  }\n",
              "\n",
              "  .colab-df-spinner {\n",
              "    border: 2px solid var(--fill-color);\n",
              "    border-color: transparent;\n",
              "    border-bottom-color: var(--fill-color);\n",
              "    animation:\n",
              "      spin 1s steps(1) infinite;\n",
              "  }\n",
              "\n",
              "  @keyframes spin {\n",
              "    0% {\n",
              "      border-color: transparent;\n",
              "      border-bottom-color: var(--fill-color);\n",
              "      border-left-color: var(--fill-color);\n",
              "    }\n",
              "    20% {\n",
              "      border-color: transparent;\n",
              "      border-left-color: var(--fill-color);\n",
              "      border-top-color: var(--fill-color);\n",
              "    }\n",
              "    30% {\n",
              "      border-color: transparent;\n",
              "      border-left-color: var(--fill-color);\n",
              "      border-top-color: var(--fill-color);\n",
              "      border-right-color: var(--fill-color);\n",
              "    }\n",
              "    40% {\n",
              "      border-color: transparent;\n",
              "      border-right-color: var(--fill-color);\n",
              "      border-top-color: var(--fill-color);\n",
              "    }\n",
              "    60% {\n",
              "      border-color: transparent;\n",
              "      border-right-color: var(--fill-color);\n",
              "    }\n",
              "    80% {\n",
              "      border-color: transparent;\n",
              "      border-right-color: var(--fill-color);\n",
              "      border-bottom-color: var(--fill-color);\n",
              "    }\n",
              "    90% {\n",
              "      border-color: transparent;\n",
              "      border-bottom-color: var(--fill-color);\n",
              "    }\n",
              "  }\n",
              "</style>\n",
              "\n",
              "  <script>\n",
              "    async function quickchart(key) {\n",
              "      const quickchartButtonEl =\n",
              "        document.querySelector('#' + key + ' button');\n",
              "      quickchartButtonEl.disabled = true;  // To prevent multiple clicks.\n",
              "      quickchartButtonEl.classList.add('colab-df-spinner');\n",
              "      try {\n",
              "        const charts = await google.colab.kernel.invokeFunction(\n",
              "            'suggestCharts', [key], {});\n",
              "      } catch (error) {\n",
              "        console.error('Error during call to suggestCharts:', error);\n",
              "      }\n",
              "      quickchartButtonEl.classList.remove('colab-df-spinner');\n",
              "      quickchartButtonEl.classList.add('colab-df-quickchart-complete');\n",
              "    }\n",
              "    (() => {\n",
              "      let quickchartButtonEl =\n",
              "        document.querySelector('#df-f9bef384-3330-4096-9218-ac05a56f48a9 button');\n",
              "      quickchartButtonEl.style.display =\n",
              "        google.colab.kernel.accessAllowed ? 'block' : 'none';\n",
              "    })();\n",
              "  </script>\n",
              "</div>\n",
              "\n",
              "    </div>\n",
              "  </div>\n"
            ],
            "text/plain": [
              "           textID                                         tweet_text sentiment\n",
              "6213   1963907471  reyt fancies a valentinos. Worst of times cons...  negative\n",
              "10605  1694438163  @dutchreaganite ROFLMAO! I feel inspired to go...  positive\n",
              "4607   1962685720  @sianhughes_ oh god i just watched it to!! did...  negative\n",
              "10301  1694312532  just cos i dont have an ipod touch yet - doesn...  positive\n",
              "13336  1750931079  Sometimes i feel pathetic going to bed so earl...  negative"
            ]
          },
          "execution_count": 12,
          "metadata": {},
          "output_type": "execute_result"
        }
      ],
      "source": [
        "df.sample(5)"
      ]
    },
    {
      "cell_type": "code",
      "execution_count": null,
      "metadata": {
        "colab": {
          "base_uri": "https://localhost:8080/"
        },
        "id": "-d8KD2RCzBMv",
        "outputId": "5c07e99d-5848-46cc-e956-f0472aa5be5f"
      },
      "outputs": [
        {
          "name": "stdout",
          "output_type": "stream",
          "text": [
            "Number of tweets: 18727\n"
          ]
        }
      ],
      "source": [
        "print(\"Number of tweets: {}\".format())"
      ]
    },
    {
      "cell_type": "markdown",
      "metadata": {
        "id": "US5Uqnn4V1RT"
      },
      "source": [
        "* Print a tweet and its sentiment based on a tweet ID"
      ]
    },
    {
      "cell_type": "code",
      "execution_count": null,
      "metadata": {
        "id": "UeDUPoASy8Bh"
      },
      "outputs": [],
      "source": [
        "tweet_id = 4879\n",
        "tweet = df.iloc[tweet_id]"
      ]
    },
    {
      "cell_type": "code",
      "execution_count": null,
      "metadata": {
        "colab": {
          "base_uri": "https://localhost:8080/"
        },
        "id": "nKuB8wZ4ftXE",
        "outputId": "73984a6f-33f2-4ade-bd93-bcada624177f"
      },
      "outputs": [
        {
          "name": "stdout",
          "output_type": "stream",
          "text": [
            "Tweet: Bad Day. History Test Tommorrow. And I want to go out in the sun and play..\n",
            "Tweet sentiment: negative\n"
          ]
        }
      ],
      "source": [
        "print(\"Tweet: {}\".format(tweet[\"tweet_text\"]))\n",
        "print(\"Tweet sentiment: {}\".format(tweet[\"sentiment\"]))"
      ]
    },
    {
      "cell_type": "markdown",
      "metadata": {
        "id": "k2QDfi2dWWFK"
      },
      "source": [
        "<img src='https://drive.google.com/uc?export=view&id=1GYj-wj-so8jQ9-VDz1ayehgVh39Jmd4H' width=250px>\n",
        "\n",
        "## **1.3** Dataset Visualisation"
      ]
    },
    {
      "cell_type": "markdown",
      "metadata": {
        "id": "QDpxKjeZQcKE"
      },
      "source": [
        "### <img src='https://drive.google.com/uc?export=view&id=1aAdtCrMe6SORoGAGtjOVM0UIxDFH9Thq' width=50px> **1.3.1** Matplotlib</h4>"
      ]
    },
    {
      "cell_type": "code",
      "execution_count": null,
      "metadata": {
        "id": "Fb79SIovB06O"
      },
      "outputs": [],
      "source": [
        "import matplotlib.pyplot as plt"
      ]
    },
    {
      "cell_type": "markdown",
      "metadata": {
        "id": "-sMh0LQRV_Da"
      },
      "source": [
        "* `pyplot` helps understanding and representing how tweets are distributed over the dataset"
      ]
    },
    {
      "cell_type": "code",
      "execution_count": null,
      "metadata": {
        "colab": {
          "base_uri": "https://localhost:8080/",
          "height": 406
        },
        "id": "ya7k2TcylAbp",
        "outputId": "1f47158f-acdd-47be-86f7-32ef9866c9e8"
      },
      "outputs": [
        {
          "data": {
            "image/png": "[encoded data removed]",
            "text/plain": [
              "<Figure size 640x480 with 1 Axes>"
            ]
          },
          "metadata": {},
          "output_type": "display_data"
        }
      ],
      "source": [
        "sentiment_count = df[\"sentiment\"].value_counts()\n",
        "plt.pie(sentiment_count, labels=sentiment_count.index,\n",
        "        autopct='%1.1f%%', shadow=True, startangle=140)\n",
        "plt.show()"
      ]
    },
    {
      "cell_type": "markdown",
      "metadata": {
        "id": "xFvGFDbFRZGK"
      },
      "source": [
        "* Print the count of positive and negative tweets"
      ]
    },
    {
      "cell_type": "code",
      "execution_count": null,
      "metadata": {
        "colab": {
          "base_uri": "https://localhost:8080/"
        },
        "id": "MlwWqCohC87z",
        "outputId": "5ea4b799-390a-49ce-f446-0466c80c4ee9"
      },
      "outputs": [
        {
          "name": "stdout",
          "output_type": "stream",
          "text": [
            "Number of + tweets: 9897\n",
            "Number of - tweets: 8830\n"
          ]
        }
      ],
      "source": [
        "print(\"Number of + tweets: {}\".format(df[df[\"sentiment\"]==\"positive\"].count()[0]))\n",
        "print(\"Number of - tweets: {}\".format(df[df[\"sentiment\"]==\"negative\"].count()[0]))"
      ]
    },
    {
      "cell_type": "markdown",
      "metadata": {
        "id": "jcXAMS4bQjGM"
      },
      "source": [
        "### <img src='https://drive.google.com/uc?export=view&id=1aAdtCrMe6SORoGAGtjOVM0UIxDFH9Thq' width=50px> **1.3.2** Wordclouds"
      ]
    },
    {
      "cell_type": "markdown",
      "metadata": {
        "id": "vTIV2ElsBhZk"
      },
      "source": [
        "* The `Wordclouds` package is very useful to get a quick overview of most recurrent words in the text corpus"
      ]
    },
    {
      "cell_type": "code",
      "execution_count": null,
      "metadata": {
        "id": "LiME9k4uBxix"
      },
      "outputs": [],
      "source": [
        "from wordcloud import WordCloud"
      ]
    },
    {
      "cell_type": "markdown",
      "metadata": {
        "id": "Stf9-UtnNloU"
      },
      "source": [
        "* What are the words most often present in positive tweets?"
      ]
    },
    {
      "cell_type": "code",
      "execution_count": null,
      "metadata": {
        "colab": {
          "base_uri": "https://localhost:8080/",
          "height": 285
        },
        "id": "fW3YNWHwwYdP",
        "outputId": "da499f54-e33e-4471-c397-5030849c5f83"
      },
      "outputs": [
        {
          "data": {
            "image/png": "[encoded data removed]",
            "text/plain": [
              "<Figure size 640x480 with 1 Axes>"
            ]
          },
          "metadata": {},
          "output_type": "display_data"
        }
      ],
      "source": [
        "pos_tweets = df[df[\"sentiment\"]==\"positive\"]\n",
        "txt = \" \".join(tweet.lower() for tweet in pos_tweets[\"tweet_text\"])\n",
        "wordcloud = WordCloud().generate(txt)\n",
        "plt.imshow(wordcloud, interpolation=\"bilinear\")\n",
        "plt.axis(\"off\")\n",
        "plt.show()"
      ]
    },
    {
      "cell_type": "markdown",
      "metadata": {
        "id": "K7FsFmH6NqWy"
      },
      "source": [
        "* ... and in negative tweets?"
      ]
    },
    {
      "cell_type": "code",
      "execution_count": null,
      "metadata": {
        "colab": {
          "base_uri": "https://localhost:8080/",
          "height": 285
        },
        "id": "MbHSPX8jE2Jk",
        "outputId": "8bd9ed8d-7214-4305-89c0-0d57ad6f35a3"
      },
      "outputs": [
        {
          "data": {
            "image/png": "[encoded data removed]",
            "text/plain": [
              "<Figure size 640x480 with 1 Axes>"
            ]
          },
          "metadata": {},
          "output_type": "display_data"
        }
      ],
      "source": [
        "neg_tweets = df[df[\"sentiment\"]==\"negative\"]\n",
        "txt = \" \".join(tweet.lower() for tweet in neg_tweets[\"tweet_text\"])\n",
        "wordcloud = WordCloud().generate(txt)\n",
        "plt.imshow(wordcloud, interpolation=\"bilinear\")\n",
        "plt.axis(\"off\")\n",
        "plt.show()"
      ]
    },
    {
      "cell_type": "markdown",
      "metadata": {
        "id": "WIFAbVfhMvKS"
      },
      "source": [
        "<img src='https://drive.google.com/uc?export=view&id=1GYj-wj-so8jQ9-VDz1ayehgVh39Jmd4H' width=650px>\n",
        "\n",
        "# `Section 2` Text Normalisation"
      ]
    },
    {
      "cell_type": "markdown",
      "metadata": {
        "id": "56HdmPCjMjls"
      },
      "source": [
        "Text Normalisation is used to reduce randomness in a particulat text.\n",
        "\n",
        "As this section relies quite a lot on `REGEX`, you might want to have a look at the following website: https://regexr.com/"
      ]
    },
    {
      "cell_type": "code",
      "execution_count": null,
      "metadata": {
        "id": "qefx0Ad1RFHy"
      },
      "outputs": [],
      "source": [
        "import re"
      ]
    },
    {
      "cell_type": "markdown",
      "metadata": {
        "id": "TKiiuRQpdxjm"
      },
      "source": [
        "<img src='https://drive.google.com/uc?export=view&id=1GYj-wj-so8jQ9-VDz1ayehgVh39Jmd4H' width=250px>\n",
        "\n",
        "## **2.1** Twitter features"
      ]
    },
    {
      "cell_type": "markdown",
      "metadata": {
        "id": "Z1N3d1u49GUt"
      },
      "source": [
        "* Example of a *random* tweet that can be found on Twitter"
      ]
    },
    {
      "cell_type": "code",
      "execution_count": null,
      "metadata": {
        "id": "O8qaWEnedWB1"
      },
      "outputs": [],
      "source": [
        "tweet = \"RT @NLPBootcamp I love this! 👍 https://NLPBootcamp.com #NLP #Fun\""
      ]
    },
    {
      "cell_type": "markdown",
      "metadata": {
        "id": "NaKqk-_gFQQN"
      },
      "source": [
        "### <img src='https://drive.google.com/uc?export=view&id=1aAdtCrMe6SORoGAGtjOVM0UIxDFH9Thq' width=50px> **2.1.1** RT Tag"
      ]
    },
    {
      "cell_type": "markdown",
      "metadata": {
        "id": "DHH-1YKcIuRW"
      },
      "source": [
        "#### Need a hint?"
      ]
    },
    {
      "cell_type": "markdown",
      "metadata": {
        "id": "2ZVeoDQK6kvr"
      },
      "source": [
        "* `R` : match \"R\" character\n",
        "* `T` : match \"T\" character\n",
        "* `\\s` : match any whitespace character\n",
        "* `+` : match one or more of the preceding tokens"
      ]
    },
    {
      "cell_type": "markdown",
      "metadata": {
        "id": "uMrR3STEfdrA"
      },
      "source": [
        "#### Handle the RT Tag"
      ]
    },
    {
      "cell_type": "markdown",
      "metadata": {
        "id": "c5R1W_qw3AZs"
      },
      "source": [
        "* Replace occurences of `RT` with a default value"
      ]
    },
    {
      "cell_type": "code",
      "execution_count": null,
      "metadata": {
        "id": "RMe1sJQZWBon"
      },
      "outputs": [],
      "source": [
        "def replace_retweet(tweet, default_replace=\"\"):\n",
        "  tweet = re.sub('RT\\s+', default_replace, tweet)\n",
        "  return tweet"
      ]
    },
    {
      "cell_type": "code",
      "execution_count": null,
      "metadata": {
        "id": "AIFwuvPQI5L4"
      },
      "outputs": [],
      "source": [
        "print(\"Processed tweet: {}\".format(replace_retweet(tweet)))"
      ]
    },
    {
      "cell_type": "markdown",
      "metadata": {
        "id": "uY48gGm2fgtV"
      },
      "source": [
        "### <img src='https://drive.google.com/uc?export=view&id=1aAdtCrMe6SORoGAGtjOVM0UIxDFH9Thq' width=50px> **2.1.2** @User Tag"
      ]
    },
    {
      "cell_type": "markdown",
      "metadata": {
        "id": "0LKMid597qjL"
      },
      "source": [
        "#### Need a hint?\n",
        "\n",
        "\n"
      ]
    },
    {
      "cell_type": "markdown",
      "metadata": {
        "id": "Uc0j6Mfw8Tcw"
      },
      "source": [
        "* `\\B` : match any position that is not a word boundary\n",
        "* `@` : match \"@\" character\n",
        "* `\\w` : match any word character\n",
        "* `+` : match one or more of the preceding tokens"
      ]
    },
    {
      "cell_type": "markdown",
      "metadata": {
        "id": "Yjn3WP56Dc-O"
      },
      "source": [
        "#### Handle the User Tag"
      ]
    },
    {
      "cell_type": "markdown",
      "metadata": {
        "id": "2DMdteLL3Sq-"
      },
      "source": [
        "* Replace `@_Someone_` with a default user tag"
      ]
    },
    {
      "cell_type": "code",
      "execution_count": null,
      "metadata": {
        "id": "ODnCCX1ueIwO"
      },
      "outputs": [],
      "source": [
        "def replace_user(tweet, default_replace=\"twitteruser\"):\n",
        "  # Write your code here\n",
        "  return tweet"
      ]
    },
    {
      "cell_type": "code",
      "execution_count": null,
      "metadata": {
        "id": "wgSircywI8fG"
      },
      "outputs": [],
      "source": [
        "print(\"Processed tweet: {}\".format(replace_user(tweet)))"
      ]
    },
    {
      "cell_type": "markdown",
      "metadata": {
        "id": "QsbZqz2Cn1dB"
      },
      "source": [
        "### <img src='https://drive.google.com/uc?export=view&id=1aAdtCrMe6SORoGAGtjOVM0UIxDFH9Thq' width=50px> **2.1.3** Emojis"
      ]
    },
    {
      "cell_type": "markdown",
      "metadata": {
        "id": "xE5IZIx5Gkx4"
      },
      "source": [
        "* Install the `emoji` package"
      ]
    },
    {
      "cell_type": "code",
      "execution_count": null,
      "metadata": {
        "colab": {
          "base_uri": "https://localhost:8080/"
        },
        "id": "PDtbHjDiiaw7",
        "outputId": "8a115fbd-fc53-4358-ff2a-b99f849ad9ec"
      },
      "outputs": [
        {
          "name": "stdout",
          "output_type": "stream",
          "text": [
            "Collecting emoji\n",
            "  Downloading emoji-2.10.0-py2.py3-none-any.whl (457 kB)\n",
            "\u001b[2K     \u001b[90m━━━━━━━━━━━━━━━━━━━━━━━━━━━━━━━━━━━━━━━━\u001b[0m \u001b[32m457.9/457.9 kB\u001b[0m \u001b[31m3.1 MB/s\u001b[0m eta \u001b[36m0:00:00\u001b[0m\n",
            "\u001b[?25hInstalling collected packages: emoji\n",
            "Successfully installed emoji-2.10.0\n"
          ]
        }
      ],
      "source": [
        "pip install emoji --upgrade"
      ]
    },
    {
      "cell_type": "markdown",
      "metadata": {
        "id": "MTSClFfP3iXm"
      },
      "source": [
        "* Import the installed package"
      ]
    },
    {
      "cell_type": "code",
      "execution_count": null,
      "metadata": {
        "id": "T8Ctx6FUiVyc"
      },
      "outputs": [],
      "source": [
        "import emoji"
      ]
    },
    {
      "cell_type": "markdown",
      "metadata": {
        "id": "6pZp0rcEGtH8"
      },
      "source": [
        "* Replace emojis with a meaningful text using the `demojize()` function"
      ]
    },
    {
      "cell_type": "code",
      "execution_count": null,
      "metadata": {
        "id": "hqHXnwRZn2Ey"
      },
      "outputs": [],
      "source": [
        "def demojize(tweet):\n",
        "  # Write your code here\n",
        "  return tweet"
      ]
    },
    {
      "cell_type": "code",
      "execution_count": null,
      "metadata": {
        "id": "NeuCWELwx2bb"
      },
      "outputs": [],
      "source": [
        "print(\"Processed tweet: {}\".format(demojize(tweet)))"
      ]
    },
    {
      "cell_type": "markdown",
      "metadata": {
        "id": "oSYc3ax5fk5m"
      },
      "source": [
        "### <img src='https://drive.google.com/uc?export=view&id=1aAdtCrMe6SORoGAGtjOVM0UIxDFH9Thq' width=50px> **2.1.4** URL"
      ]
    },
    {
      "cell_type": "markdown",
      "metadata": {
        "id": "7URUz-xz9otD"
      },
      "source": [
        "#### Need a hint?"
      ]
    },
    {
      "cell_type": "markdown",
      "metadata": {
        "id": "MKaWmYHL4bmw"
      },
      "source": [
        "* `(http|https)` : capturing group matching either http or https\n",
        "* `:` : match the \":\" character\n",
        "* `\\/` : match the \"/\" charachter\n",
        "* `\\S` : match any character that is not whitespace\n",
        "* `+` : match one or more of the preceding tokens"
      ]
    },
    {
      "cell_type": "markdown",
      "metadata": {
        "id": "1Y1_YIxt5z3d"
      },
      "source": [
        "#### Handle the URL"
      ]
    },
    {
      "cell_type": "markdown",
      "metadata": {
        "id": "gp8E1W-e4QDT"
      },
      "source": [
        "* Replace occurences of `http://` or `https://` with a default value"
      ]
    },
    {
      "cell_type": "code",
      "execution_count": null,
      "metadata": {
        "id": "0Vq3d5VcfdCc"
      },
      "outputs": [],
      "source": [
        "def replace_url(tweet, default_replace=\"\"):\n",
        "  # Write your code here\n",
        "  return tweet"
      ]
    },
    {
      "cell_type": "code",
      "execution_count": null,
      "metadata": {
        "id": "YN2c4pJIy8pX"
      },
      "outputs": [],
      "source": [
        "print(\"Processed tweet: {}\".format(replace_url(tweet)))"
      ]
    },
    {
      "cell_type": "markdown",
      "metadata": {
        "id": "piKIdmGCimZ1"
      },
      "source": [
        "### <img src='https://drive.google.com/uc?export=view&id=1aAdtCrMe6SORoGAGtjOVM0UIxDFH9Thq' width=50px> **2.1.5** Hashtags"
      ]
    },
    {
      "cell_type": "markdown",
      "metadata": {
        "id": "yePSPCRy4WWk"
      },
      "source": [
        "* Replace occurences of `#_something_` with a default value"
      ]
    },
    {
      "cell_type": "code",
      "execution_count": null,
      "metadata": {
        "id": "yI76Ve3lg3WZ"
      },
      "outputs": [],
      "source": [
        "def replace_hashtag(tweet, default_replace=\"\"):\n",
        "  # Write your code here\n",
        "  return tweet"
      ]
    },
    {
      "cell_type": "code",
      "execution_count": null,
      "metadata": {
        "id": "1xlMKyD4y-Xg"
      },
      "outputs": [],
      "source": [
        "print(\"Processed tweet: {}\".format(replace_hashtag(tweet)))"
      ]
    },
    {
      "cell_type": "markdown",
      "metadata": {
        "id": "77D-JqISVFvi"
      },
      "source": [
        "<img src='https://drive.google.com/uc?export=view&id=1GYj-wj-so8jQ9-VDz1ayehgVh39Jmd4H' width=250px>\n",
        "\n",
        "## **2.2** Word Features\n",
        "\n",
        "Let's now have a look at some other features that are not really Twitter-dependant"
      ]
    },
    {
      "cell_type": "code",
      "execution_count": null,
      "metadata": {
        "id": "xw18TAaFhOMH"
      },
      "outputs": [],
      "source": [
        "tweet = \"LOOOOOOOOK at this ... I'd like it so much!\""
      ]
    },
    {
      "cell_type": "markdown",
      "metadata": {
        "id": "VmN1OTYBi8r3"
      },
      "source": [
        "### <img src='https://drive.google.com/uc?export=view&id=1aAdtCrMe6SORoGAGtjOVM0UIxDFH9Thq' width=50px> **2.2.1** Remove upper capitalization"
      ]
    },
    {
      "cell_type": "markdown",
      "metadata": {
        "id": "noY_ATKH4hcz"
      },
      "source": [
        "* Lower case each letter in a specific tweet"
      ]
    },
    {
      "cell_type": "code",
      "execution_count": null,
      "metadata": {
        "id": "NXCITDNeQtnE"
      },
      "outputs": [],
      "source": [
        "def to_lowercase(tweet):\n",
        "  tweet = tweet.lower()\n",
        "  return tweet"
      ]
    },
    {
      "cell_type": "code",
      "execution_count": null,
      "metadata": {
        "id": "-Roo8SHo23vw"
      },
      "outputs": [],
      "source": [
        "print(\"Processed tweet: {}\".format(to_lowercase(tweet)))"
      ]
    },
    {
      "cell_type": "markdown",
      "metadata": {
        "id": "fNlZxI4ZS-dX"
      },
      "source": [
        "### <img src='https://drive.google.com/uc?export=view&id=1aAdtCrMe6SORoGAGtjOVM0UIxDFH9Thq' width=50px> **2.2.2** Word repetition"
      ]
    },
    {
      "cell_type": "markdown",
      "metadata": {
        "id": "sKkeEGaX4m40"
      },
      "source": [
        "* Replace word repetition with a single occurence (\"oooooo\" becomes \"oo\")"
      ]
    },
    {
      "cell_type": "code",
      "execution_count": null,
      "metadata": {
        "id": "USLuHaaiS9xm"
      },
      "outputs": [],
      "source": [
        "def word_repetition(tweet):\n",
        "  tweet = re.sub(r'(.)\\1+', r'\\1\\1', tweet)\n",
        "  return tweet"
      ]
    },
    {
      "cell_type": "code",
      "execution_count": null,
      "metadata": {
        "id": "CkWh38hH5qyY"
      },
      "outputs": [],
      "source": [
        "print(\"Processed tweet: {}\".format(word_repetition(tweet)))"
      ]
    },
    {
      "cell_type": "markdown",
      "metadata": {
        "id": "Qli_4tnBpcr4"
      },
      "source": [
        "### <img src='https://drive.google.com/uc?export=view&id=1aAdtCrMe6SORoGAGtjOVM0UIxDFH9Thq' width=50px> **2.2.3** Punctuation repetition"
      ]
    },
    {
      "cell_type": "markdown",
      "metadata": {
        "id": "vQN36n3w4wNA"
      },
      "source": [
        "* Replace punctuation repetition with a single occurence (\"!!!!!\" becomes \"!\")"
      ]
    },
    {
      "cell_type": "code",
      "execution_count": null,
      "metadata": {
        "id": "w_awIiJ_ngo7"
      },
      "outputs": [],
      "source": [
        "def punct_repetition(tweet, default_replace=\"\"):\n",
        "  tweet = re.sub(r'[\\?\\.\\!]+(?=[\\?\\.\\!])', default_replace, tweet)\n",
        "  return tweet"
      ]
    },
    {
      "cell_type": "code",
      "execution_count": null,
      "metadata": {
        "id": "jfRfogEe5str"
      },
      "outputs": [],
      "source": [
        "print(\"Processed tweet: {}\".format(punct_repetition(tweet)))"
      ]
    },
    {
      "cell_type": "markdown",
      "metadata": {
        "id": "mpwgMqIxi6G9"
      },
      "source": [
        "### <img src='https://drive.google.com/uc?export=view&id=1aAdtCrMe6SORoGAGtjOVM0UIxDFH9Thq' width=50px> **2.2.4** Word contraction"
      ]
    },
    {
      "cell_type": "code",
      "execution_count": null,
      "metadata": {
        "colab": {
          "base_uri": "https://localhost:8080/"
        },
        "id": "wO2Gle7Ey360",
        "outputId": "879adc6b-6509-4dc5-ee74-fcf6e7159699"
      },
      "outputs": [
        {
          "name": "stdout",
          "output_type": "stream",
          "text": [
            "Collecting contractions\n",
            "  Downloading contractions-0.1.73-py2.py3-none-any.whl (8.7 kB)\n",
            "Collecting textsearch>=0.0.21 (from contractions)\n",
            "  Downloading textsearch-0.0.24-py2.py3-none-any.whl (7.6 kB)\n",
            "Collecting anyascii (from textsearch>=0.0.21->contractions)\n",
            "  Downloading anyascii-0.3.2-py3-none-any.whl (289 kB)\n",
            "\u001b[2K     \u001b[90m━━━━━━━━━━━━━━━━━━━━━━━━━━━━━━━━━━━━━━━━\u001b[0m \u001b[32m289.9/289.9 kB\u001b[0m \u001b[31m2.2 MB/s\u001b[0m eta \u001b[36m0:00:00\u001b[0m\n",
            "\u001b[?25hCollecting pyahocorasick (from textsearch>=0.0.21->contractions)\n",
            "  Downloading pyahocorasick-2.0.0-cp310-cp310-manylinux_2_5_x86_64.manylinux1_x86_64.manylinux_2_12_x86_64.manylinux2010_x86_64.whl (110 kB)\n",
            "\u001b[2K     \u001b[90m━━━━━━━━━━━━━━━━━━━━━━━━━━━━━━━━━━━━━━━━\u001b[0m \u001b[32m110.8/110.8 kB\u001b[0m \u001b[31m11.6 MB/s\u001b[0m eta \u001b[36m0:00:00\u001b[0m\n",
            "\u001b[?25hInstalling collected packages: pyahocorasick, anyascii, textsearch, contractions\n",
            "Successfully installed anyascii-0.3.2 contractions-0.1.73 pyahocorasick-2.0.0 textsearch-0.0.24\n"
          ]
        }
      ],
      "source": [
        "pip install contractions"
      ]
    },
    {
      "cell_type": "code",
      "execution_count": null,
      "metadata": {
        "id": "UdkPTEZryzJC"
      },
      "outputs": [],
      "source": [
        "import contractions"
      ]
    },
    {
      "cell_type": "markdown",
      "metadata": {
        "id": "tDGBT323GE1v"
      },
      "source": [
        "* Use `contractions_dict` to list most common contractions"
      ]
    },
    {
      "cell_type": "code",
      "execution_count": null,
      "metadata": {
        "colab": {
          "base_uri": "https://localhost:8080/"
        },
        "id": "4DwhVxKs1QL_",
        "outputId": "75b8a8a5-38ea-48e6-a37a-79b5c3229c9d"
      },
      "outputs": [
        {
          "name": "stdout",
          "output_type": "stream",
          "text": [
            "{\"I'm\": 'I am', \"I'm'a\": 'I am about to', \"I'm'o\": 'I am going to', \"I've\": 'I have', \"I'll\": 'I will', \"I'll've\": 'I will have', \"I'd\": 'I would', \"I'd've\": 'I would have', 'Whatcha': 'What are you', \"amn't\": 'am not', \"ain't\": 'are not', \"aren't\": 'are not', \"'cause\": 'because', \"can't\": 'cannot', \"can't've\": 'cannot have', \"could've\": 'could have', \"couldn't\": 'could not', \"couldn't've\": 'could not have', \"daren't\": 'dare not', \"daresn't\": 'dare not', \"dasn't\": 'dare not', \"didn't\": 'did not', 'didn’t': 'did not', \"don't\": 'do not', 'don’t': 'do not', \"doesn't\": 'does not', \"e'er\": 'ever', \"everyone's\": 'everyone is', 'finna': 'fixing to', 'gimme': 'give me', \"gon't\": 'go not', 'gonna': 'going to', 'gotta': 'got to', \"hadn't\": 'had not', \"hadn't've\": 'had not have', \"hasn't\": 'has not', \"haven't\": 'have not', \"he've\": 'he have', \"he's\": 'he is', \"he'll\": 'he will', \"he'll've\": 'he will have', \"he'd\": 'he would', \"he'd've\": 'he would have', \"here's\": 'here is', \"how're\": 'how are', \"how'd\": 'how did', \"how'd'y\": 'how do you', \"how's\": 'how is', \"how'll\": 'how will', \"isn't\": 'is not', \"it's\": 'it is', \"'tis\": 'it is', \"'twas\": 'it was', \"it'll\": 'it will', \"it'll've\": 'it will have', \"it'd\": 'it would', \"it'd've\": 'it would have', 'kinda': 'kind of', \"let's\": 'let us', 'luv': 'love', \"ma'am\": 'madam', \"may've\": 'may have', \"mayn't\": 'may not', \"might've\": 'might have', \"mightn't\": 'might not', \"mightn't've\": 'might not have', \"must've\": 'must have', \"mustn't\": 'must not', \"mustn't've\": 'must not have', \"needn't\": 'need not', \"needn't've\": 'need not have', \"ne'er\": 'never', \"o'\": 'of', \"o'clock\": 'of the clock', \"ol'\": 'old', \"oughtn't\": 'ought not', \"oughtn't've\": 'ought not have', \"o'er\": 'over', \"shan't\": 'shall not', \"sha'n't\": 'shall not', \"shalln't\": 'shall not', \"shan't've\": 'shall not have', \"she's\": 'she is', \"she'll\": 'she will', \"she'd\": 'she would', \"she'd've\": 'she would have', \"should've\": 'should have', \"shouldn't\": 'should not', \"shouldn't've\": 'should not have', \"so've\": 'so have', \"so's\": 'so is', \"somebody's\": 'somebody is', \"someone's\": 'someone is', \"something's\": 'something is', 'sux': 'sucks', \"that're\": 'that are', \"that's\": 'that is', \"that'll\": 'that will', \"that'd\": 'that would', \"that'd've\": 'that would have', \"'em\": 'them', \"there're\": 'there are', \"there's\": 'there is', \"there'll\": 'there will', \"there'd\": 'there would', \"there'd've\": 'there would have', \"these're\": 'these are', \"they're\": 'they are', \"they've\": 'they have', \"they'll\": 'they will', \"they'll've\": 'they will have', \"they'd\": 'they would', \"they'd've\": 'they would have', \"this's\": 'this is', \"this'll\": 'this will', \"this'd\": 'this would', \"those're\": 'those are', \"to've\": 'to have', 'wanna': 'want to', \"wasn't\": 'was not', \"we're\": 'we are', \"we've\": 'we have', \"we'll\": 'we will', \"we'll've\": 'we will have', \"we'd\": 'we would', \"we'd've\": 'we would have', \"weren't\": 'were not', \"what're\": 'what are', \"what'd\": 'what did', \"what've\": 'what have', \"what's\": 'what is', \"what'll\": 'what will', \"what'll've\": 'what will have', \"when've\": 'when have', \"when's\": 'when is', \"where're\": 'where are', \"where'd\": 'where did', \"where've\": 'where have', \"where's\": 'where is', \"which's\": 'which is', \"who're\": 'who are', \"who've\": 'who have', \"who's\": 'who is', \"who'll\": 'who will', \"who'll've\": 'who will have', \"who'd\": 'who would', \"who'd've\": 'who would have', \"why're\": 'why are', \"why'd\": 'why did', \"why've\": 'why have', \"why's\": 'why is', \"will've\": 'will have', \"won't\": 'will not', \"won't've\": 'will not have', \"would've\": 'would have', \"wouldn't\": 'would not', \"wouldn't've\": 'would not have', \"y'all\": 'you all', \"y'all're\": 'you all are', \"y'all've\": 'you all have', \"y'all'd\": 'you all would', \"y'all'd've\": 'you all would have', \"you're\": 'you are', \"you've\": 'you have', \"you'll've\": 'you shall have', \"you'll\": 'you will', \"you'd\": 'you would', \"you'd've\": 'you would have', 'to cause': 'to cause', 'will cause': 'will cause', 'should cause': 'should cause', 'would cause': 'would cause', 'can cause': 'can cause', 'could cause': 'could cause', 'must cause': 'must cause', 'might cause': 'might cause', 'shall cause': 'shall cause', 'may cause': 'may cause', 'jan.': 'january', 'feb.': 'february', 'mar.': 'march', 'apr.': 'april', 'jun.': 'june', 'jul.': 'july', 'aug.': 'august', 'sep.': 'september', 'oct.': 'october', 'nov.': 'november', 'dec.': 'december', 'I’m': 'I am', 'I’m’a': 'I am about to', 'I’m’o': 'I am going to', 'I’ve': 'I have', 'I’ll': 'I will', 'I’ll’ve': 'I will have', 'I’d': 'I would', 'I’d’ve': 'I would have', 'amn’t': 'am not', 'ain’t': 'are not', 'aren’t': 'are not', '’cause': 'because', 'can’t': 'cannot', 'can’t’ve': 'cannot have', 'could’ve': 'could have', 'couldn’t': 'could not', 'couldn’t’ve': 'could not have', 'daren’t': 'dare not', 'daresn’t': 'dare not', 'dasn’t': 'dare not', 'doesn’t': 'does not', 'e’er': 'ever', 'everyone’s': 'everyone is', 'gon’t': 'go not', 'hadn’t': 'had not', 'hadn’t’ve': 'had not have', 'hasn’t': 'has not', 'haven’t': 'have not', 'he’ve': 'he have', 'he’s': 'he is', 'he’ll': 'he will', 'he’ll’ve': 'he will have', 'he’d': 'he would', 'he’d’ve': 'he would have', 'here’s': 'here is', 'how’re': 'how are', 'how’d': 'how did', 'how’d’y': 'how do you', 'how’s': 'how is', 'how’ll': 'how will', 'isn’t': 'is not', 'it’s': 'it is', '’tis': 'it is', '’twas': 'it was', 'it’ll': 'it will', 'it’ll’ve': 'it will have', 'it’d': 'it would', 'it’d’ve': 'it would have', 'let’s': 'let us', 'ma’am': 'madam', 'may’ve': 'may have', 'mayn’t': 'may not', 'might’ve': 'might have', 'mightn’t': 'might not', 'mightn’t’ve': 'might not have', 'must’ve': 'must have', 'mustn’t': 'must not', 'mustn’t’ve': 'must not have', 'needn’t': 'need not', 'needn’t’ve': 'need not have', 'ne’er': 'never', 'o’': 'of', 'o’clock': 'of the clock', 'ol’': 'old', 'oughtn’t': 'ought not', 'oughtn’t’ve': 'ought not have', 'o’er': 'over', 'shan’t': 'shall not', 'sha’n’t': 'shall not', 'shalln’t': 'shall not', 'shan’t’ve': 'shall not have', 'she’s': 'she is', 'she’ll': 'she will', 'she’d': 'she would', 'she’d’ve': 'she would have', 'should’ve': 'should have', 'shouldn’t': 'should not', 'shouldn’t’ve': 'should not have', 'so’ve': 'so have', 'so’s': 'so is', 'somebody’s': 'somebody is', 'someone’s': 'someone is', 'something’s': 'something is', 'that’re': 'that are', 'that’s': 'that is', 'that’ll': 'that will', 'that’d': 'that would', 'that’d’ve': 'that would have', '’em': 'them', 'there’re': 'there are', 'there’s': 'there is', 'there’ll': 'there will', 'there’d': 'there would', 'there’d’ve': 'there would have', 'these’re': 'these are', 'they’re': 'they are', 'they’ve': 'they have', 'they’ll': 'they will', 'they’ll’ve': 'they will have', 'they’d': 'they would', 'they’d’ve': 'they would have', 'this’s': 'this is', 'this’ll': 'this will', 'this’d': 'this would', 'those’re': 'those are', 'to’ve': 'to have', 'wasn’t': 'was not', 'we’re': 'we are', 'we’ve': 'we have', 'we’ll': 'we will', 'we’ll’ve': 'we will have', 'we’d': 'we would', 'we’d’ve': 'we would have', 'weren’t': 'were not', 'what’re': 'what are', 'what’d': 'what did', 'what’ve': 'what have', 'what’s': 'what is', 'what’ll': 'what will', 'what’ll’ve': 'what will have', 'when’ve': 'when have', 'when’s': 'when is', 'where’re': 'where are', 'where’d': 'where did', 'where’ve': 'where have', 'where’s': 'where is', 'which’s': 'which is', 'who’re': 'who are', 'who’ve': 'who have', 'who’s': 'who is', 'who’ll': 'who will', 'who’ll’ve': 'who will have', 'who’d': 'who would', 'who’d’ve': 'who would have', 'why’re': 'why are', 'why’d': 'why did', 'why’ve': 'why have', 'why’s': 'why is', 'will’ve': 'will have', 'won’t': 'will not', 'won’t’ve': 'will not have', 'would’ve': 'would have', 'wouldn’t': 'would not', 'wouldn’t’ve': 'would not have', 'y’all': 'you all', 'y’all’re': 'you all are', 'y’all’ve': 'you all have', 'y’all’d': 'you all would', 'y’all’d’ve': 'you all would have', 'you’re': 'you are', 'you’ve': 'you have', 'you’ll’ve': 'you shall have', 'you’ll': 'you will', 'you’d': 'you would', 'you’d’ve': 'you would have'}\n"
          ]
        }
      ],
      "source": [
        "print(contractions.contractions_dict)"
      ]
    },
    {
      "cell_type": "markdown",
      "metadata": {
        "id": "7lho1c8I5D2B"
      },
      "source": [
        "* Create a `_fix_contractions` function used to replace contractions with their extended forms by using the contractions dictionary\n",
        "* ***Hint***: You can reference each item in the dictionary using `contractions.contractions_dict.items()`"
      ]
    },
    {
      "cell_type": "code",
      "execution_count": null,
      "metadata": {
        "id": "A1xj5UXbVspq"
      },
      "outputs": [],
      "source": [
        "def _fix_contractions(tweet):\n",
        "  for k, v in contractions.contractions_dict.items():\n",
        "    tweet = tweet.replace(k, v)\n",
        "  return tweet"
      ]
    },
    {
      "cell_type": "code",
      "execution_count": null,
      "metadata": {
        "id": "2MDFOXKTccRV"
      },
      "outputs": [],
      "source": [
        "print(\"Processed tweet: {}\".format(_fix_contractions(tweet)))"
      ]
    },
    {
      "cell_type": "markdown",
      "metadata": {
        "id": "GQijW6z65IzJ"
      },
      "source": [
        "* Create a `_fix_contractions` function used to replace contractions with their extended forms by using the contractions package"
      ]
    },
    {
      "cell_type": "code",
      "execution_count": null,
      "metadata": {
        "id": "MP6atIK-VsNw"
      },
      "outputs": [],
      "source": []
    },
    {
      "cell_type": "code",
      "execution_count": null,
      "metadata": {
        "id": "MqQ60KaMc0CS"
      },
      "outputs": [],
      "source": [
        "print(\"Processed tweet: {}\".format(fix_contractions(tweet)))"
      ]
    },
    {
      "cell_type": "markdown",
      "metadata": {
        "id": "V7Qnxa-_2q6x"
      },
      "source": [
        "<img src='https://drive.google.com/uc?export=view&id=1GYj-wj-so8jQ9-VDz1ayehgVh39Jmd4H' width=250px>\n",
        "\n",
        "## **2.3** Tokenization"
      ]
    },
    {
      "cell_type": "markdown",
      "metadata": {
        "id": "eECnMHD_89wz"
      },
      "source": [
        "More information about NLTK? Head over to: https://www.nltk.org\n",
        "\n",
        "* Install the `NLTK` package"
      ]
    },
    {
      "cell_type": "code",
      "execution_count": null,
      "metadata": {
        "id": "SnKD-MkZ2kNd"
      },
      "outputs": [],
      "source": [
        "pip install nltk"
      ]
    },
    {
      "cell_type": "markdown",
      "metadata": {
        "id": "v8KTZgynDSTg"
      },
      "source": [
        "### <img src='https://drive.google.com/uc?export=view&id=1aAdtCrMe6SORoGAGtjOVM0UIxDFH9Thq' width=50px> **2.3.1** Basic Tokenization"
      ]
    },
    {
      "cell_type": "markdown",
      "metadata": {
        "id": "mO_sTCV19KA5"
      },
      "source": [
        "* Import `NLTK`\n",
        "* Import the `word_tokenize` module from NLTK\n",
        "* Download the `Punkt` tokenizer model from NLTK"
      ]
    },
    {
      "cell_type": "code",
      "execution_count": null,
      "metadata": {
        "id": "-6SVKvVP4NDL"
      },
      "outputs": [],
      "source": [
        "import nltk\n",
        "from nltk.tokenize import word_tokenize\n",
        "nltk.download('punkt')"
      ]
    },
    {
      "cell_type": "markdown",
      "metadata": {
        "id": "YCtkPkWIEXdl"
      },
      "source": [
        "* Simple tweet to be tokenized"
      ]
    },
    {
      "cell_type": "code",
      "execution_count": null,
      "metadata": {
        "id": "hJLYCxJztrXo"
      },
      "outputs": [],
      "source": [
        "tweet = \"These are 5 different words!\""
      ]
    },
    {
      "cell_type": "markdown",
      "metadata": {
        "id": "zo0nDxqUDy6s"
      },
      "source": [
        "* Create a `tokenize()` function that takes a tweet as input and returns a list of tokens"
      ]
    },
    {
      "cell_type": "code",
      "execution_count": null,
      "metadata": {
        "id": "MthNx7ou4OnW"
      },
      "outputs": [],
      "source": [
        "# Write your code here"
      ]
    },
    {
      "cell_type": "markdown",
      "metadata": {
        "id": "DoiTPGFNDqAf"
      },
      "source": [
        "* Use the `tokenize()` function to print the tokenized version of a tweet"
      ]
    },
    {
      "cell_type": "code",
      "execution_count": null,
      "metadata": {
        "id": "oPdJeqcRCYT2"
      },
      "outputs": [],
      "source": [
        "print(type(tokenize(tweet)))\n",
        "print(\"Tweet tokens: {}\".format(tokenize(tweet)))"
      ]
    },
    {
      "cell_type": "markdown",
      "metadata": {
        "id": "s3Ha_2Dtjl6X"
      },
      "source": [
        "That's it for the easy method! You will now see there is more you can do about it."
      ]
    },
    {
      "cell_type": "markdown",
      "metadata": {
        "id": "zNNH8qREgQCq"
      },
      "source": [
        "### <img src='https://drive.google.com/uc?export=view&id=1aAdtCrMe6SORoGAGtjOVM0UIxDFH9Thq' width=50px> **2.3.2** Custom Tokenization"
      ]
    },
    {
      "cell_type": "code",
      "execution_count": null,
      "metadata": {
        "id": "U0PXVv-GgSas"
      },
      "outputs": [],
      "source": [
        "import string"
      ]
    },
    {
      "cell_type": "markdown",
      "metadata": {
        "id": "156JN2GRgdfb"
      },
      "source": [
        "* Retrieve English punctuation signs by using the `string` package"
      ]
    },
    {
      "cell_type": "code",
      "execution_count": null,
      "metadata": {
        "id": "ZCfZ5YwngXAr"
      },
      "outputs": [],
      "source": [
        "print(string.punctuation)"
      ]
    },
    {
      "cell_type": "markdown",
      "metadata": {
        "id": "lajI6T6wgl8D"
      },
      "source": [
        "- Import and download the `stopwords` module and NTLK"
      ]
    },
    {
      "cell_type": "code",
      "execution_count": null,
      "metadata": {
        "id": "rfbvT5fvgqPe"
      },
      "outputs": [],
      "source": [
        "from nltk.corpus import stopwords\n",
        "nltk.download('stopwords')"
      ]
    },
    {
      "cell_type": "markdown",
      "metadata": {
        "id": "3MhZ7FU0grMg"
      },
      "source": [
        "- Create a set of English stopwords"
      ]
    },
    {
      "cell_type": "code",
      "execution_count": null,
      "metadata": {
        "id": "9mzsdxG-gutn"
      },
      "outputs": [],
      "source": [
        "stop_words = set(stopwords.words('english'))\n",
        "print(stop_words)"
      ]
    },
    {
      "cell_type": "markdown",
      "metadata": {
        "id": "dgc6ER5ggwvF"
      },
      "source": [
        "- Remove some stopwords from the set"
      ]
    },
    {
      "cell_type": "code",
      "execution_count": null,
      "metadata": {
        "id": "XU9FyEtagzRW"
      },
      "outputs": [],
      "source": [
        "stop_words.discard('not')\n",
        "print(stop_words)"
      ]
    },
    {
      "cell_type": "markdown",
      "metadata": {
        "id": "bsyPAEhIg0D9"
      },
      "source": [
        "- Create a `custom_tokenize` function"
      ]
    },
    {
      "cell_type": "code",
      "execution_count": null,
      "metadata": {
        "id": "C5Gxzfbfg3Py"
      },
      "outputs": [],
      "source": [
        "def custom_tokenize(tweet,\n",
        "                    keep_punct = False,\n",
        "                    keep_alnum = False,\n",
        "                    keep_stop = False):\n",
        "\n",
        "  token_list = word_tokenize(tweet)\n",
        "\n",
        "  if not keep_punct:\n",
        "    token_list = [token for token in token_list\n",
        "                  if token not in string.punctuation]\n",
        "\n",
        "  if not keep_alnum:\n",
        "    token_list = [token for token in token_list if token.isalpha()]\n",
        "\n",
        "  if not keep_stop:\n",
        "    stop_words = set(stopwords.words('english'))\n",
        "    stop_words.discard('not')\n",
        "    token_list = [token for token in token_list if not token in stop_words]\n",
        "\n",
        "  return token_list"
      ]
    },
    {
      "cell_type": "markdown",
      "metadata": {
        "id": "5OUZMTj9hYs7"
      },
      "source": [
        "- Test the function with a tweet"
      ]
    },
    {
      "cell_type": "code",
      "execution_count": null,
      "metadata": {
        "id": "ScASFhJVhZrU"
      },
      "outputs": [],
      "source": [
        "tweet = \"these are 5 different words!\"\n",
        "\n",
        "print(\"Tweet tokens: {}\".format(custom_tokenize(tweet,\n",
        "                                                keep_punct=True,\n",
        "                                                keep_alnum=True,\n",
        "                                                keep_stop=True)))\n",
        "print(\"Tweet tokens: {}\".format(custom_tokenize(tweet, keep_stop=True)))\n",
        "print(\"Tweet tokens: {}\".format(custom_tokenize(tweet, keep_alnum=True)))"
      ]
    },
    {
      "cell_type": "markdown",
      "metadata": {
        "id": "DIY4CKCcTyEo"
      },
      "source": [
        "<img src='https://drive.google.com/uc?export=view&id=1GYj-wj-so8jQ9-VDz1ayehgVh39Jmd4H' width=250px>\n",
        "\n",
        "## **2.4** Stemming"
      ]
    },
    {
      "cell_type": "markdown",
      "metadata": {
        "id": "OoizpNg82nK_"
      },
      "source": [
        "More information about `NLTK.stem`? Head over to: https://www.nltk.org/api/nltk.stem.html\n",
        "\n",
        "* Import different libraries and modules used for stemming"
      ]
    },
    {
      "cell_type": "code",
      "execution_count": null,
      "metadata": {
        "id": "5oaU_cd_Wz0u"
      },
      "outputs": [],
      "source": [
        "from nltk.stem import PorterStemmer\n",
        "from nltk.stem import LancasterStemmer\n",
        "from nltk.stem.snowball import SnowballStemmer"
      ]
    },
    {
      "cell_type": "markdown",
      "metadata": {
        "id": "lb9Joc083a2i"
      },
      "source": [
        "* List of tokens to stem (remember that we stem tokens and not entire sentences)"
      ]
    },
    {
      "cell_type": "code",
      "execution_count": null,
      "metadata": {
        "id": "sTraXL0yy1Up"
      },
      "outputs": [],
      "source": [
        "tokens = [\"manager\", \"management\", \"managing\"]"
      ]
    },
    {
      "cell_type": "markdown",
      "metadata": {
        "id": "v35wUbss5fnI"
      },
      "source": [
        "* Stemmers can be defined by directly using NLTK"
      ]
    },
    {
      "cell_type": "code",
      "execution_count": null,
      "metadata": {
        "id": "o8QDL-05tMj5"
      },
      "outputs": [],
      "source": [
        "# Write your code here"
      ]
    },
    {
      "cell_type": "markdown",
      "metadata": {
        "id": "_5j_BLPU5ptp"
      },
      "source": [
        "* Create a `stem_tokens` function that takes the list of tokens as input and returns a list of stemmed tokens"
      ]
    },
    {
      "cell_type": "code",
      "execution_count": null,
      "metadata": {
        "id": "CetNdOeRTyjj"
      },
      "outputs": [],
      "source": [
        "# Write your code here"
      ]
    },
    {
      "cell_type": "markdown",
      "metadata": {
        "id": "swSFzfQI6PQ3"
      },
      "source": [
        "* Print the different results and compare the stemmed tokens"
      ]
    },
    {
      "cell_type": "code",
      "execution_count": null,
      "metadata": {
        "id": "YDZqSc43tKjI"
      },
      "outputs": [],
      "source": [
        "print(\"Porter stems: {}\".format(stem_tokens(tokens, porter_stemmer)))\n",
        "print(\"Lancaster stems: {}\".format(stem_tokens(tokens, lancaster_stemmer)))\n",
        "print(\"Snowball stems: {}\".format(stem_tokens(tokens, snoball_stemmer)))"
      ]
    },
    {
      "cell_type": "markdown",
      "metadata": {
        "id": "H102rFNu6VzW"
      },
      "source": [
        "* Check over-stemming and under-stemming"
      ]
    },
    {
      "cell_type": "code",
      "execution_count": null,
      "metadata": {
        "id": "Y9beBm8O0Gpp"
      },
      "outputs": [],
      "source": [
        "tokens = [\"international\", \"companies\", \"had\", \"interns\"]"
      ]
    },
    {
      "cell_type": "code",
      "execution_count": null,
      "metadata": {
        "id": "pGGhCVph1VDp"
      },
      "outputs": [],
      "source": [
        "print(\"Porter stems: {}\".format(stem_tokens(tokens, porter_stemmer)))\n",
        "print(\"Lancaster stems: {}\".format(stem_tokens(tokens, lancaster_stemmer)))\n",
        "print(\"Snowball stems: {}\".format(stem_tokens(tokens, snoball_stemmer)))"
      ]
    },
    {
      "cell_type": "markdown",
      "metadata": {
        "id": "62AsuQu6UIEn"
      },
      "source": [
        "<img src='https://drive.google.com/uc?export=view&id=1GYj-wj-so8jQ9-VDz1ayehgVh39Jmd4H' width=250px>\n",
        "\n",
        "## **2.5** Lemmatization"
      ]
    },
    {
      "cell_type": "markdown",
      "metadata": {
        "id": "Xk8rZjBEzcaI"
      },
      "source": [
        "More information about WordNet? Head over to https://wordnet.princeton.edu/\n",
        "\n",
        "* Import different libraries and modules used for lemmatisation"
      ]
    },
    {
      "cell_type": "code",
      "execution_count": null,
      "metadata": {
        "id": "lUdQlhSQUL7T"
      },
      "outputs": [],
      "source": [
        "from nltk.stem import WordNetLemmatizer\n",
        "from nltk.corpus import wordnet\n",
        "nltk.download('wordnet')"
      ]
    },
    {
      "cell_type": "markdown",
      "metadata": {
        "id": "QgJuRIZf7yWQ"
      },
      "source": [
        "* List of tokens to lemmatize (remember that we lemmatise tokens and not entire sentences)"
      ]
    },
    {
      "cell_type": "code",
      "execution_count": null,
      "metadata": {
        "id": "kljxJlz0yJ8H"
      },
      "outputs": [],
      "source": [
        "tokens = [\"international\", \"companies\", \"had\", \"interns\"]"
      ]
    },
    {
      "cell_type": "markdown",
      "metadata": {
        "id": "uQjP0xoH2NcZ"
      },
      "source": [
        "* Part of Speech (POS) tagging"
      ]
    },
    {
      "cell_type": "code",
      "execution_count": null,
      "metadata": {
        "id": "oWHJMdHH18le"
      },
      "outputs": [],
      "source": [
        "word_type = {\"international\": wordnet.ADJ,\n",
        "             \"companies\": wordnet.NOUN,\n",
        "             \"had\": wordnet.VERB,\n",
        "             \"interns\": wordnet.NOUN\n",
        "             }"
      ]
    },
    {
      "cell_type": "markdown",
      "metadata": {
        "id": "e30o3j5N72sw"
      },
      "source": [
        "* Create the lemmatizer by using the `WordNet` module"
      ]
    },
    {
      "cell_type": "code",
      "execution_count": null,
      "metadata": {
        "id": "J-AAGLN4UWTO"
      },
      "outputs": [],
      "source": [
        "# Write your code here"
      ]
    },
    {
      "cell_type": "markdown",
      "metadata": {
        "id": "y9pDpdOo78jH"
      },
      "source": [
        "* Create a `lemmatize_tokens` function that takes the list of tokens as input and returns a list of lemmatized tokens"
      ]
    },
    {
      "cell_type": "code",
      "execution_count": null,
      "metadata": {
        "id": "D6Kiw9xOZE-F"
      },
      "outputs": [],
      "source": [
        "# Write your code here"
      ]
    },
    {
      "cell_type": "code",
      "execution_count": null,
      "metadata": {
        "id": "2nnvMrk_UYZ1"
      },
      "outputs": [],
      "source": [
        "print(\"Tweet lemma: {}\".format(\n",
        "    lemmatize_tokens(tokens, word_type, lemmatizer)))"
      ]
    },
    {
      "cell_type": "markdown",
      "metadata": {
        "id": "DTervSXj3zkF"
      },
      "source": [
        "<img src='https://drive.google.com/uc?export=view&id=1GYj-wj-so8jQ9-VDz1ayehgVh39Jmd4H' width=250px>\n",
        "\n",
        "## **2.6** Putting it all together"
      ]
    },
    {
      "cell_type": "markdown",
      "metadata": {
        "id": "Ag9YSiUE8I03"
      },
      "source": [
        "* Long and complex tweet to be processed"
      ]
    },
    {
      "cell_type": "code",
      "execution_count": null,
      "metadata": {
        "id": "COBX24hLZiZn"
      },
      "outputs": [],
      "source": [
        "complex_tweet = r\"\"\"RT @NLPBootcamp : he looooook,\n",
        "THis is a big and complex TWeet!!! 👍 ...\n",
        "We'd be glad if you couldn't normalize it!\n",
        "Check https://t.co/7777 and LET ME KNOW!!! #NLP #Fun\"\"\""
      ]
    },
    {
      "cell_type": "markdown",
      "metadata": {
        "id": "7pRABF3t8MO0"
      },
      "source": [
        "* Create a custom `process_tweet` function that can be used to process tweets end-to-end\n",
        "* **Note**: this function will be used as a base for the following sections, so be careful!"
      ]
    },
    {
      "cell_type": "code",
      "execution_count": null,
      "metadata": {
        "id": "iiQofxMv37Ik"
      },
      "outputs": [],
      "source": [
        "def process_tweet(tweet, verbose=False):\n",
        "  if verbose: print(\"Initial tweet: {}\".format(tweet))\n",
        "\n",
        "  ## Twitter Features\n",
        "    # replace retweet\n",
        "    # replace user tag\n",
        "    # replace url\n",
        "    # replace hashtag\n",
        "  if verbose: print(\"Post Twitter processing tweet: {}\".format(tweet))\n",
        "\n",
        "  ## Word Features\n",
        "    # lower case\n",
        "    # replace contractions\n",
        "    # replace punctuation repetition\n",
        "    # replace word repetition\n",
        "    # replace emojis\n",
        "  if verbose: print(\"Post Word processing tweet: {}\".format(tweet))\n",
        "\n",
        "  ## Tokenization & Stemming\n",
        "    # tokenize\n",
        "    # define stemmer\n",
        "    # stem tokens\n",
        "\n",
        "  return stem"
      ]
    },
    {
      "cell_type": "markdown",
      "metadata": {
        "id": "SKBv4elc81PC"
      },
      "source": [
        "* Test your `process_tweet` function!"
      ]
    },
    {
      "cell_type": "code",
      "execution_count": null,
      "metadata": {
        "id": "_Xb146QF4uhj"
      },
      "outputs": [],
      "source": [
        "print(process_tweet(complex_tweet, verbose=False))"
      ]
    },
    {
      "cell_type": "markdown",
      "metadata": {
        "id": "Hy48UzeYHFoP"
      },
      "source": [
        "* Look at some more examples!\n",
        "* **Note:** it's totally possible you encounter some strange tweet processing (happens if the original tweet is initially strangely written)"
      ]
    },
    {
      "cell_type": "code",
      "execution_count": null,
      "metadata": {
        "id": "26lxJnf2K7zd"
      },
      "outputs": [],
      "source": [
        "import random"
      ]
    },
    {
      "cell_type": "code",
      "execution_count": null,
      "metadata": {
        "id": "XBa0HUtM4x0n"
      },
      "outputs": [],
      "source": [
        "for i in range(5):\n",
        "  tweet_id = random.randint(0,len(df))\n",
        "  tweet = df.iloc[tweet_id][\"tweet_text\"]\n",
        "  print(process_tweet(tweet, verbose=True))\n",
        "  print(\"\\n\")"
      ]
    },
    {
      "cell_type": "markdown",
      "metadata": {
        "id": "V1ScK4-f_cJB"
      },
      "source": [
        "<img src='https://drive.google.com/uc?export=view&id=1GYj-wj-so8jQ9-VDz1ayehgVh39Jmd4H' width=650px>\n",
        "\n",
        "# `Section 3` Text Representation </h2>"
      ]
    },
    {
      "cell_type": "markdown",
      "metadata": {
        "id": "dgEa9cqUzoEK"
      },
      "source": [
        "<img src='https://drive.google.com/uc?export=view&id=1GYj-wj-so8jQ9-VDz1ayehgVh39Jmd4H' width=250px>\n",
        "\n",
        "## **3.1** Processing Tweets"
      ]
    },
    {
      "cell_type": "markdown",
      "metadata": {
        "id": "oIz-oZSEqJB7"
      },
      "source": [
        "* Install the `Scikit-Learn` package which is very useful for a lot of different ML tasks.\n",
        "* **Note:** make sure it is installed and up-to-date (once installed/updated, you might be asked to reload Colab)."
      ]
    },
    {
      "cell_type": "code",
      "execution_count": null,
      "metadata": {
        "colab": {
          "base_uri": "https://localhost:8080/"
        },
        "id": "T1oZA6AjqC3X",
        "outputId": "09289d78-47e9-4396-9589-9a493d94832e"
      },
      "outputs": [
        {
          "name": "stdout",
          "output_type": "stream",
          "text": [
            "Requirement already satisfied: scikit-learn in /usr/local/lib/python3.10/dist-packages (1.2.2)\n",
            "Collecting scikit-learn\n",
            "  Downloading scikit_learn-1.4.0-1-cp310-cp310-manylinux_2_17_x86_64.manylinux2014_x86_64.whl (12.1 MB)\n",
            "\u001b[2K     \u001b[90m━━━━━━━━━━━━━━━━━━━━━━━━━━━━━━━━━━━━━━━━\u001b[0m \u001b[32m12.1/12.1 MB\u001b[0m \u001b[31m35.5 MB/s\u001b[0m eta \u001b[36m0:00:00\u001b[0m\n",
            "\u001b[?25hRequirement already satisfied: numpy<2.0,>=1.19.5 in /usr/local/lib/python3.10/dist-packages (from scikit-learn) (1.23.5)\n",
            "Requirement already satisfied: scipy>=1.6.0 in /usr/local/lib/python3.10/dist-packages (from scikit-learn) (1.11.4)\n",
            "Requirement already satisfied: joblib>=1.2.0 in /usr/local/lib/python3.10/dist-packages (from scikit-learn) (1.3.2)\n",
            "Requirement already satisfied: threadpoolctl>=2.0.0 in /usr/local/lib/python3.10/dist-packages (from scikit-learn) (3.2.0)\n",
            "Installing collected packages: scikit-learn\n",
            "  Attempting uninstall: scikit-learn\n",
            "    Found existing installation: scikit-learn 1.2.2\n",
            "    Uninstalling scikit-learn-1.2.2:\n",
            "      Successfully uninstalled scikit-learn-1.2.2\n",
            "Successfully installed scikit-learn-1.4.0\n"
          ]
        }
      ],
      "source": [
        "pip install -U scikit-learn"
      ]
    },
    {
      "cell_type": "markdown",
      "metadata": {
        "id": "MjvFLUXi_Ukv"
      },
      "source": [
        "* Apply `process_tweet` function created in section 2 to the entire DataFrame\n",
        "* Convert sentiment to 1 for \"positive\" and 0 for \"negative\" sentiment"
      ]
    },
    {
      "cell_type": "code",
      "execution_count": null,
      "metadata": {
        "id": "B0_4R6tNqcAg"
      },
      "outputs": [],
      "source": [
        "# Write your code here"
      ]
    },
    {
      "cell_type": "markdown",
      "metadata": {
        "id": "6YHtN5xwqiGM"
      },
      "source": [
        "* Convert DataFrame to two lists: one for the tweet tokens (X) and one for the tweet sentiment (y)\n",
        "\n",
        "\n",
        "\n",
        "\n",
        "\n"
      ]
    },
    {
      "cell_type": "code",
      "execution_count": null,
      "metadata": {
        "id": "ru_1XwdIqgXH"
      },
      "outputs": [],
      "source": [
        "# Write your code here"
      ]
    },
    {
      "cell_type": "code",
      "execution_count": null,
      "metadata": {
        "id": "dm6k_K81i1cG"
      },
      "outputs": [],
      "source": [
        "print(X)\n",
        "print(y)"
      ]
    },
    {
      "cell_type": "markdown",
      "metadata": {
        "id": "wgcJewZTobFk"
      },
      "source": [
        "<img src='https://drive.google.com/uc?export=view&id=1GYj-wj-so8jQ9-VDz1ayehgVh39Jmd4H' width=250px>\n",
        "\n",
        "## **3.2** Positive/Negative Frequency"
      ]
    },
    {
      "cell_type": "markdown",
      "metadata": {
        "id": "gBpw9KYPHcz5"
      },
      "source": [
        "* Corpus of tweet tokens used for the first method"
      ]
    },
    {
      "cell_type": "code",
      "execution_count": null,
      "metadata": {
        "id": "VygUsA2VbNQv"
      },
      "outputs": [],
      "source": [
        "corpus = [[\"i\", \"love\", \"nlp\"],\n",
        "          [\"i\", \"miss\", \"you\"],\n",
        "          [\"i\", \"love\", \"you\"],\n",
        "          [\"you\", \"are\", \"happy\", \"to\", \"learn\"],\n",
        "          [\"i\", \"lost\", \"my\", \"computer\"],\n",
        "          [\"i\", \"am\", \"so\", \"sad\"]]\n",
        "\n",
        "sentiment = [1, 0, 1, 1, 0, 0]"
      ]
    },
    {
      "cell_type": "markdown",
      "metadata": {
        "id": "nLdGueKbv9o9"
      },
      "source": [
        "\n",
        "* Create a `build_freqs` function used to build a dictionnary with the word and sentiment as index and the count of occurence as value\n",
        "\n",
        "\n",
        "<table style=\"width:100%\">\n",
        "  <tr>\n",
        "    <th>Word</th>\n",
        "    <th>Positive</th>\n",
        "    <th>Negative</th>\n",
        "  </tr>\n",
        "  <tr>\n",
        "    <td>love</td>\n",
        "    <td>dict[(love, 1)]</td>\n",
        "    <td>dict[(love, 0)]</td>\n",
        "  </tr>\n",
        "  <tr>\n",
        "    <td>lost</td>\n",
        "    <td>dict[(lost, 1)]</td>\n",
        "    <td>dict[(lost, 0)]</td>\n",
        "  </tr>\n",
        "  <tr>\n",
        "    <td>happy</td>\n",
        "    <td>dict[(happy, 1)]</td>\n",
        "    <td>dict[(happy, 0)]</td>\n",
        "  </tr>\n",
        "</table>\n"
      ]
    },
    {
      "cell_type": "code",
      "execution_count": null,
      "metadata": {
        "id": "PSSP3EFyp9Nr"
      },
      "outputs": [],
      "source": [
        "# Write your code here"
      ]
    },
    {
      "cell_type": "markdown",
      "metadata": {
        "id": "dpMlVUPPx136"
      },
      "source": [
        "* Build the frequency dictionnary on the corpus by using the function"
      ]
    },
    {
      "cell_type": "code",
      "execution_count": null,
      "metadata": {
        "id": "S58DffMwi5vN"
      },
      "outputs": [],
      "source": [
        "# Write your code here"
      ]
    },
    {
      "cell_type": "code",
      "execution_count": null,
      "metadata": {
        "id": "Pb0BvLORtJql"
      },
      "outputs": [],
      "source": [
        "print(freqs)"
      ]
    },
    {
      "cell_type": "markdown",
      "metadata": {
        "id": "64pK3pBlx_Hn"
      },
      "source": [
        "* Build the frequency dictionnary on the entire dataset by using the function"
      ]
    },
    {
      "cell_type": "code",
      "execution_count": null,
      "metadata": {
        "id": "6vnVv4TOi63Y"
      },
      "outputs": [],
      "source": [
        "# Write your code here"
      ]
    },
    {
      "cell_type": "code",
      "execution_count": null,
      "metadata": {
        "id": "mvafc_1fsktr"
      },
      "outputs": [],
      "source": [
        "print(\"Frequency of word 'love' in + tweets: {}\".format(freqs_all[(\"love\", 1)]))\n",
        "print(\"Frequency of word 'love' in - tweets: {}\".format(freqs_all[(\"love\", 0)]))"
      ]
    },
    {
      "cell_type": "markdown",
      "metadata": {
        "id": "KosMwShRyUTW"
      },
      "source": [
        "* Create a `tweet_to_freqs` function used to convert tweets to a 2-d array by using the frequency dictionnary"
      ]
    },
    {
      "cell_type": "code",
      "execution_count": null,
      "metadata": {
        "id": "6QoyYL6wtTBP"
      },
      "outputs": [],
      "source": [
        "# Write your code here"
      ]
    },
    {
      "cell_type": "markdown",
      "metadata": {
        "id": "jjGynFT_JOKY"
      },
      "source": [
        "* Print the 2-d vector by using the `tweet_to_freqs` function and the *corpus* dictionnary"
      ]
    },
    {
      "cell_type": "code",
      "execution_count": null,
      "metadata": {
        "id": "2Nrowt5T0ZQl"
      },
      "outputs": [],
      "source": [
        "print(tweet_to_freq([\"i\", \"love\", \"nlp\"], freqs))"
      ]
    },
    {
      "cell_type": "markdown",
      "metadata": {
        "id": "o0csoh9UJWgP"
      },
      "source": [
        "* Print the 2-d vector by using the `tweet_to_freqs` function and the *dataset* dictionnary"
      ]
    },
    {
      "cell_type": "code",
      "execution_count": null,
      "metadata": {
        "id": "PTmNWLcD2QGn"
      },
      "outputs": [],
      "source": [
        "print(tweet_to_freq([\"i\", \"love\", \"nlp\"], freqs_all))"
      ]
    },
    {
      "cell_type": "markdown",
      "metadata": {
        "id": "WsLNWRrh2XQ9"
      },
      "source": [
        "* Plot word vectors in a chart and see where they locate"
      ]
    },
    {
      "cell_type": "code",
      "execution_count": null,
      "metadata": {
        "id": "JL3E5vRrxJrZ"
      },
      "outputs": [],
      "source": [
        "fig, ax = plt.subplots(figsize = (8, 8))\n",
        "\n",
        "word1 = \"happi\"\n",
        "word2 = \"sad\"\n",
        "\n",
        "def word_features(word, freqs):\n",
        "  x = np.zeros((2,))\n",
        "  if (word, 1) in freqs:\n",
        "    x[0] = np.log(freqs[(word, 1)] + 1)\n",
        "  if (word, 0) in freqs:\n",
        "    x[1] = np.log(freqs[(word, 0)] + 1)\n",
        "  return x\n",
        "\n",
        "x_axis = [word_features(word, freqs_all)[0] for word in [word1, word2]]\n",
        "y_axis = [word_features(word, freqs_all)[1] for word in [word1, word2]]\n",
        "\n",
        "ax.scatter(x_axis, y_axis)\n",
        "\n",
        "plt.xlabel(\"Log Positive count\")\n",
        "plt.ylabel(\"Log Negative count\")\n",
        "\n",
        "ax.plot([0, 9], [0, 9], color = 'red')\n",
        "plt.text(x_axis[0], y_axis[0], word1)\n",
        "plt.text(x_axis[1], y_axis[1], word2)\n",
        "plt.show()"
      ]
    },
    {
      "cell_type": "markdown",
      "metadata": {
        "id": "wh-4DbOFJlAn"
      },
      "source": [
        "* Corpus of tweet tokens used for the second method"
      ]
    },
    {
      "cell_type": "code",
      "execution_count": null,
      "metadata": {
        "id": "SomLbPUibDa9"
      },
      "outputs": [],
      "source": [
        "corpus = [[\"love\", \"nlp\"],\n",
        "          [\"miss\", \"you\"],\n",
        "          [\"hate\", \"hate\", \"hate\", \"love\"],\n",
        "          [\"happy\", \"love\", \"hate\"],\n",
        "          [\"i\", \"lost\", \"my\", \"computer\"],\n",
        "          [\"i\", \"am\", \"so\", \"sad\"]]"
      ]
    },
    {
      "cell_type": "markdown",
      "metadata": {
        "id": "FEe5w7SPso2e"
      },
      "source": [
        "* Import `CountVectorizer` from the Scikit-learn Library"
      ]
    },
    {
      "cell_type": "code",
      "execution_count": null,
      "metadata": {
        "id": "UjjZkgHCpw_m"
      },
      "outputs": [],
      "source": [
        "from sklearn.feature_extraction.text import CountVectorizer"
      ]
    },
    {
      "cell_type": "markdown",
      "metadata": {
        "id": "8a5WqAGSJ0KN"
      },
      "source": [
        "* Create a `fit_cv` function used to build the Bag-of-Words vectorizer with the corpus"
      ]
    },
    {
      "cell_type": "code",
      "execution_count": null,
      "metadata": {
        "id": "hEzNadu6pwYh"
      },
      "outputs": [],
      "source": [
        "# Write your code here"
      ]
    },
    {
      "cell_type": "markdown",
      "metadata": {
        "id": "Z07FwlXUJ7ld"
      },
      "source": [
        "* Use the `fit_cv` function to fit the vectorizer on the corpus"
      ]
    },
    {
      "cell_type": "code",
      "execution_count": null,
      "metadata": {
        "id": "xed7_qlKwoX9"
      },
      "outputs": [],
      "source": [
        "# Write your code here"
      ]
    },
    {
      "cell_type": "markdown",
      "metadata": {
        "id": "h0PJfMk2sthJ"
      },
      "source": [
        "* Get the vectorizer features (matrix columns)"
      ]
    },
    {
      "cell_type": "code",
      "execution_count": null,
      "metadata": {
        "id": "SJcalFLxjIEx"
      },
      "outputs": [],
      "source": [
        "# Write your code here"
      ]
    },
    {
      "cell_type": "code",
      "execution_count": null,
      "metadata": {
        "id": "e-nxkR7VfWii"
      },
      "outputs": [],
      "source": [
        "print(\"There are {} features in this corpus\".format(len(ft)))\n",
        "print(ft)"
      ]
    },
    {
      "cell_type": "markdown",
      "metadata": {
        "id": "6IueKWpsswRn"
      },
      "source": [
        "* Convert the corpus to a matrix by using the vectorize"
      ]
    },
    {
      "cell_type": "code",
      "execution_count": null,
      "metadata": {
        "id": "MZ-mcZScBdtb"
      },
      "outputs": [],
      "source": [
        "# Write your code here"
      ]
    },
    {
      "cell_type": "markdown",
      "metadata": {
        "id": "iSf9F_jgKRnr"
      },
      "source": [
        "* Print the matrix shape"
      ]
    },
    {
      "cell_type": "code",
      "execution_count": null,
      "metadata": {
        "id": "eXm86BaJp0yB"
      },
      "outputs": [],
      "source": [
        "print(\"Matrix shape is: {}\".format()"
      ]
    },
    {
      "cell_type": "markdown",
      "metadata": {
        "id": "uHWE38UMKVOG"
      },
      "source": [
        "* Convert the matrix to an array"
      ]
    },
    {
      "cell_type": "code",
      "execution_count": null,
      "metadata": {
        "id": "TBH3Hy60gQB4"
      },
      "outputs": [],
      "source": [
        "# Write your code here"
      ]
    },
    {
      "cell_type": "markdown",
      "metadata": {
        "id": "bvnrCpxvKaMR"
      },
      "source": [
        "* Transform a new tweet by using the vectorizer"
      ]
    },
    {
      "cell_type": "code",
      "execution_count": null,
      "metadata": {
        "id": "YLVG9xwdwzuN"
      },
      "outputs": [],
      "source": [
        "new_tweet = [[\"lost\", \"lost\", \"miss\", \"miss\"]]\n",
        "cv_vect.transform(new_tweet).toarray()"
      ]
    },
    {
      "cell_type": "code",
      "execution_count": null,
      "metadata": {
        "id": "LMuCe5KsxyR_"
      },
      "outputs": [],
      "source": [
        "unknown_tweet = [[\"John\", \"drives\", \"cars\"]]\n",
        "cv_vect.transform(unknown_tweet).toarray()"
      ]
    },
    {
      "cell_type": "markdown",
      "metadata": {
        "id": "7H4tg1lhoBxR"
      },
      "source": [
        "\n",
        "<img src='https://drive.google.com/uc?export=view&id=1GYj-wj-so8jQ9-VDz1ayehgVh39Jmd4H' width=650px>\n",
        "\n",
        "# `Section 4` Sentiment Model"
      ]
    },
    {
      "cell_type": "markdown",
      "metadata": {
        "id": "MjAoXb4XsxgN"
      },
      "source": [
        "## Helper function\n",
        "\n",
        "This function will be used to plot the confusion matrix for the different models we will create"
      ]
    },
    {
      "cell_type": "code",
      "execution_count": null,
      "metadata": {
        "id": "TBiVy9LSnlVN"
      },
      "outputs": [],
      "source": [
        "import seaborn as sn\n",
        "\n",
        "def plot_confusion(cm):\n",
        "  plt.figure(figsize = (5,5))\n",
        "  sn.heatmap(cm, annot=True, cmap=\"Blues\", fmt='.0f')\n",
        "  plt.xlabel(\"Prediction\")\n",
        "  plt.ylabel(\"True value\")\n",
        "  plt.title(\"Confusion Matrix\")\n",
        "  return sn"
      ]
    },
    {
      "cell_type": "markdown",
      "metadata": {
        "id": "ePstP2McY2Ql"
      },
      "source": [
        "<img src='https://drive.google.com/uc?export=view&id=1GYj-wj-so8jQ9-VDz1ayehgVh39Jmd4H' width=250px>\n",
        "\n",
        "## **4.1** Train/Test Split"
      ]
    },
    {
      "cell_type": "markdown",
      "metadata": {
        "id": "mfXwu-g4onVk"
      },
      "source": [
        "* Check what X and y looks like"
      ]
    },
    {
      "cell_type": "code",
      "execution_count": null,
      "metadata": {
        "id": "YMqL7yh1Dt8t"
      },
      "outputs": [],
      "source": [
        "print(X)\n",
        "print(y)"
      ]
    },
    {
      "cell_type": "markdown",
      "metadata": {
        "id": "GnJENLcJooVj"
      },
      "source": [
        "* Import the `train_test_split` function from the Scikit-Learn package"
      ]
    },
    {
      "cell_type": "code",
      "execution_count": null,
      "metadata": {
        "id": "vkeEyh9TeTT3"
      },
      "outputs": [],
      "source": [
        "from sklearn.model_selection import train_test_split"
      ]
    },
    {
      "cell_type": "markdown",
      "metadata": {
        "id": "tgDUiv-po5LZ"
      },
      "source": [
        "* Use the `train_test_split` function to split arrays of X and y into training and testing variables"
      ]
    },
    {
      "cell_type": "code",
      "execution_count": null,
      "metadata": {
        "id": "XdKNxWTXDvLM"
      },
      "outputs": [],
      "source": [
        "# Write your code here"
      ]
    },
    {
      "cell_type": "markdown",
      "metadata": {
        "id": "C4uKnKwkpG_J"
      },
      "source": [
        "* Print the size of these news variables"
      ]
    },
    {
      "cell_type": "code",
      "execution_count": null,
      "metadata": {
        "id": "_fUaBFavoBTG"
      },
      "outputs": [],
      "source": [
        "print(\"Size of X_train: {}\".format(len(X_train)))\n",
        "print(\"Size of y_train: {}\".format(len(y_train)))\n",
        "print(\"\\n\")\n",
        "print(\"Size of X_test: {}\".format(len(X_test)))\n",
        "print(\"Size of y_test: {}\".format(len(y_test)))\n",
        "print(\"\\n\")\n",
        "print(\"Train proportion: {:.0%}\".format(len(X_train)/\n",
        "                                        (len(X_train)+len(X_test))))"
      ]
    },
    {
      "cell_type": "markdown",
      "metadata": {
        "id": "SVouoqmepP0N"
      },
      "source": [
        "* Print random tweets, just to verify everything goes as expected"
      ]
    },
    {
      "cell_type": "code",
      "execution_count": null,
      "metadata": {
        "id": "T5nWVNZzobfd"
      },
      "outputs": [],
      "source": [
        "id = random.randint(0,len(X_train))\n",
        "print(\"Train tweet: {}\".format(X_train[id]))\n",
        "print(\"Sentiment: {}\".format(y_train[id]))"
      ]
    },
    {
      "cell_type": "markdown",
      "metadata": {
        "id": "0pV5EWbQpIOp"
      },
      "source": [
        "<img src='https://drive.google.com/uc?export=view&id=1GYj-wj-so8jQ9-VDz1ayehgVh39Jmd4H' width=250px>\n",
        "\n",
        "## **4.2** Logistic Regression"
      ]
    },
    {
      "cell_type": "markdown",
      "metadata": {
        "id": "2vvELqpBA62u"
      },
      "source": [
        "### <img src='https://drive.google.com/uc?export=view&id=1aAdtCrMe6SORoGAGtjOVM0UIxDFH9Thq' width=50px> **4.2.1** Model"
      ]
    },
    {
      "cell_type": "markdown",
      "metadata": {
        "id": "_8DrY2m6L0zq"
      },
      "source": [
        "* Import the `LogisticRegression` model from Scikit-Learn"
      ]
    },
    {
      "cell_type": "code",
      "execution_count": null,
      "metadata": {
        "id": "fVCZ2jEcb_Kx"
      },
      "outputs": [],
      "source": [
        "from sklearn.linear_model import LogisticRegression"
      ]
    },
    {
      "cell_type": "markdown",
      "metadata": {
        "id": "R8oqTzbsL5N7"
      },
      "source": [
        "* Create a `fit_lr` function used to fit a Logistic Regression model on X and y *training* data"
      ]
    },
    {
      "cell_type": "code",
      "execution_count": null,
      "metadata": {
        "id": "IN8x-HdwcC1K"
      },
      "outputs": [],
      "source": [
        "# Write your code here"
      ]
    },
    {
      "cell_type": "markdown",
      "metadata": {
        "id": "KWD8LNbJDHG9"
      },
      "source": [
        "\n",
        "### <img src='https://drive.google.com/uc?export=view&id=1aAdtCrMe6SORoGAGtjOVM0UIxDFH9Thq' width=50px>  **4.2.2** Pos/Neg Frequency"
      ]
    },
    {
      "cell_type": "markdown",
      "metadata": {
        "id": "1bqSbvMxMDk8"
      },
      "source": [
        "* Use the `build_freqs` function on training data to create a frequency dictionnary\n",
        "* Use the frequency dictionnary together with the `tweet_to_freq` function to convert X_train and X_test data to 2-d vectors"
      ]
    },
    {
      "cell_type": "code",
      "execution_count": null,
      "metadata": {
        "id": "hKDhO2RKBafD"
      },
      "outputs": [],
      "source": [
        "# Write your code here"
      ]
    },
    {
      "cell_type": "markdown",
      "metadata": {
        "id": "2FgQYsodMl1c"
      },
      "source": [
        "* Fit the Logistic Regression model on training data by using the `fit_lr` function\n",
        "* Print the model coefficients (betas and intercept)"
      ]
    },
    {
      "cell_type": "code",
      "execution_count": null,
      "metadata": {
        "id": "mgXgI2QcjYyv"
      },
      "outputs": [],
      "source": [
        "# Write your code here"
      ]
    },
    {
      "cell_type": "markdown",
      "metadata": {
        "id": "3ZtyVpIDZBRr"
      },
      "source": [
        "### <img src='https://drive.google.com/uc?export=view&id=1aAdtCrMe6SORoGAGtjOVM0UIxDFH9Thq' width=50px> **4.2.3** Count Vector"
      ]
    },
    {
      "cell_type": "markdown",
      "metadata": {
        "id": "-itafPb7M2O-"
      },
      "source": [
        "* Use the `fit_cv` function on training data to build the Bag-of-Words vectorizer\n",
        "* Transform X_train and X_test data by using the vectorizer"
      ]
    },
    {
      "cell_type": "code",
      "execution_count": null,
      "metadata": {
        "id": "zXba4ZPaYsb5"
      },
      "outputs": [],
      "source": [
        "# Write your code here"
      ]
    },
    {
      "cell_type": "markdown",
      "metadata": {
        "id": "dGDgMoYMNGA4"
      },
      "source": [
        "* Fit the Logistic Regression model on training data by using the `fit_lr` function"
      ]
    },
    {
      "cell_type": "code",
      "execution_count": null,
      "metadata": {
        "id": "xarmCHAIZMty"
      },
      "outputs": [],
      "source": [
        "# Write your code here"
      ]
    },
    {
      "cell_type": "markdown",
      "metadata": {
        "id": "dTZWCw7CuAqy"
      },
      "source": [
        "<img src='https://drive.google.com/uc?export=view&id=1GYj-wj-so8jQ9-VDz1ayehgVh39Jmd4H' width=250px>\n",
        "\n",
        "## **4.3** Performance Metrics"
      ]
    },
    {
      "cell_type": "markdown",
      "metadata": {
        "id": "GlWsYS6GNYi8"
      },
      "source": [
        "* Import the `accuracy score` and `confusion matrix` from Scikit-Learn"
      ]
    },
    {
      "cell_type": "code",
      "execution_count": null,
      "metadata": {
        "id": "Pv_HXA9ttu4I"
      },
      "outputs": [],
      "source": [
        "from sklearn.metrics import accuracy_score\n",
        "from sklearn.metrics import confusion_matrix"
      ]
    },
    {
      "cell_type": "markdown",
      "metadata": {
        "id": "L-OBeBb4vf-Y"
      },
      "source": [
        "### <img src='https://drive.google.com/uc?export=view&id=1aAdtCrMe6SORoGAGtjOVM0UIxDFH9Thq' width=50px> **4.3.1** Positive/Negative Frequencies"
      ]
    },
    {
      "cell_type": "markdown",
      "metadata": {
        "id": "pNAY6ENLNgla"
      },
      "source": [
        "* Use the fitted `model_lr_pn` (positive/negative frequencies) to predict X_test\n",
        "* Print the model accuracy by comparing predictions and real sentiments\n",
        "\n"
      ]
    },
    {
      "cell_type": "code",
      "execution_count": null,
      "metadata": {
        "id": "WGSRknqlj6fu"
      },
      "outputs": [],
      "source": [
        "# Write your code here"
      ]
    },
    {
      "cell_type": "code",
      "execution_count": null,
      "metadata": {
        "id": "h4Mw_VHwj6Qp"
      },
      "outputs": [],
      "source": [
        "print(\"LR Model Accuracy: {:.2%}\".format())"
      ]
    },
    {
      "cell_type": "markdown",
      "metadata": {
        "id": "AEtKfgdij-cU"
      },
      "source": [
        "* Plot the confusion matrix by using the `plot_confusion` helper function"
      ]
    },
    {
      "cell_type": "code",
      "execution_count": null,
      "metadata": {
        "id": "ZMFVLs_vAO03"
      },
      "outputs": [],
      "source": [
        "# Write your code here"
      ]
    },
    {
      "cell_type": "markdown",
      "metadata": {
        "id": "HzTQksefvlxJ"
      },
      "source": [
        "### <img src='https://drive.google.com/uc?export=view&id=1aAdtCrMe6SORoGAGtjOVM0UIxDFH9Thq' width=50px> **4.3.2** Count Vector"
      ]
    },
    {
      "cell_type": "markdown",
      "metadata": {
        "id": "cP_bueksN2cS"
      },
      "source": [
        "* Use the fitted `model_lr_cv` (Bag-of-words) to predict X_test\n",
        "* Print the model accuracy by comparing predictions and real sentiments\n",
        "\n"
      ]
    },
    {
      "cell_type": "code",
      "execution_count": null,
      "metadata": {
        "id": "suYa_OYgZPq1"
      },
      "outputs": [],
      "source": [
        "# Write your code here"
      ]
    },
    {
      "cell_type": "code",
      "execution_count": null,
      "metadata": {
        "id": "WAOncwPekK1_"
      },
      "outputs": [],
      "source": [
        "print(\"LR Model Accuracy: {:.2%}\".format(accuracy_score(y_test, y_pred_lr_cv)))"
      ]
    },
    {
      "cell_type": "markdown",
      "metadata": {
        "id": "w3_6Fg_zkLVm"
      },
      "source": [
        "* Plot the confusion matrix by using the `plot_confusion` helper function"
      ]
    },
    {
      "cell_type": "code",
      "execution_count": null,
      "metadata": {
        "id": "HlaWIWnNkL1O"
      },
      "outputs": [],
      "source": [
        "# Write your code here"
      ]
    },
    {
      "cell_type": "markdown",
      "metadata": {
        "id": "T5TjajsKv7Ha"
      },
      "source": [
        "*Lab has been adapted from AIOutsider.*"
      ]
    }
  ],
  "metadata": {
    "colab": {
      "collapsed_sections": [
        "_H4YR66DPimn",
        "k0pwA66BACFH",
        "DHH-1YKcIuRW",
        "uMrR3STEfdrA"
      ],
      "provenance": [],
      "toc_visible": true
    },
    "kernelspec": {
      "display_name": "Python 3",
      "name": "python3"
    }
  },
  "nbformat": 4,
  "nbformat_minor": 0
}
