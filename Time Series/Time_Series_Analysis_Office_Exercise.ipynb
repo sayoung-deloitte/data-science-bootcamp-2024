{
  "nbformat": 4,
  "nbformat_minor": 0,
  "metadata": {
    "colab": {
      "provenance": []
    },
    "kernelspec": {
      "name": "python3",
      "display_name": "Python 3"
    },
    "language_info": {
      "name": "python"
    }
  },
  "cells": [
    {
      "cell_type": "code",
      "source": [
        "import pandas as pd\n",
        "import warnings\n",
        "import itertools\n",
        "import numpy as np\n",
        "import matplotlib.pyplot as plt\n",
        "warnings.filterwarnings(\"ignore\")\n",
        "import statsmodels.api as sm\n",
        "import matplotlib\n",
        "from pylab import rcParams"
      ],
      "metadata": {
        "id": "TtuLYLQ1U6Ap"
      },
      "execution_count": null,
      "outputs": []
    },
    {
      "cell_type": "code",
      "source": [
        "# Read the data file\n",
        "df ="
      ],
      "metadata": {
        "id": "iMg5nfweF4TZ"
      },
      "execution_count": null,
      "outputs": []
    },
    {
      "cell_type": "code",
      "source": [
        "df.head()"
      ],
      "metadata": {
        "id": "o3_SUtWYF4Ww"
      },
      "execution_count": null,
      "outputs": []
    },
    {
      "cell_type": "markdown",
      "source": [
        "### Analysing Office Supply category\n",
        "There are three categories of sales: Furniture, Office Supply and Technology.\n",
        "Work on time series analysis and forecasting for office Supply sales."
      ],
      "metadata": {
        "id": "PFLvmtUrHKQ2"
      }
    },
    {
      "cell_type": "code",
      "source": [
        "df_office =\n",
        "df_office"
      ],
      "metadata": {
        "id": "y2rT1SkCG8rr"
      },
      "execution_count": null,
      "outputs": []
    },
    {
      "cell_type": "code",
      "source": [
        "# Lets look at the date range of sales of data\n"
      ],
      "metadata": {
        "id": "Z178Od-7HpVE"
      },
      "execution_count": null,
      "outputs": []
    },
    {
      "cell_type": "code",
      "source": [
        "# Check for null values, we focus on order date and sales column and make sure there are no missing values.\n"
      ],
      "metadata": {
        "id": "u0QF6eo4H-gC"
      },
      "execution_count": null,
      "outputs": []
    },
    {
      "cell_type": "code",
      "source": [
        "columns = ['Row ID', 'Order ID', 'Ship Date', 'Ship Mode',\n",
        "       'Customer ID', 'Customer Name', 'Segment', 'Country', 'City', 'State',\n",
        "       'Postal Code', 'Region', 'Product ID', 'Category', 'Sub-Category',\n",
        "       'Product Name', 'Quantity', 'Discount', 'Profit']\n",
        "df_office.drop(columns, axis=1, inplace=True)"
      ],
      "metadata": {
        "id": "p-FSoCqsJJEQ"
      },
      "execution_count": null,
      "outputs": []
    },
    {
      "cell_type": "code",
      "source": [
        "df_office.head()"
      ],
      "metadata": {
        "id": "dQIaRO6pIosK"
      },
      "execution_count": null,
      "outputs": []
    },
    {
      "cell_type": "code",
      "source": [
        "# Set date as the index refer to previous lab\n"
      ],
      "metadata": {
        "id": "p5xWMleYKA1y"
      },
      "execution_count": null,
      "outputs": []
    },
    {
      "cell_type": "code",
      "source": [
        "# Plot the sales data\n"
      ],
      "metadata": {
        "id": "SvcV1eMDJ5yz"
      },
      "execution_count": null,
      "outputs": []
    },
    {
      "cell_type": "code",
      "source": [
        "# Since it's really hard to read the sales data in current format,resample the data on Monthly basis\n"
      ],
      "metadata": {
        "id": "owDsm0FQKHX6"
      },
      "execution_count": 30,
      "outputs": []
    },
    {
      "cell_type": "code",
      "source": [
        "# Plot the sales data based on monthly basis\n"
      ],
      "metadata": {
        "id": "GlZIoQlLLBnx"
      },
      "execution_count": null,
      "outputs": []
    },
    {
      "cell_type": "markdown",
      "source": [
        "### Time Decomposition\n",
        "\n",
        "Distinctive patterns emerge when visualizing the data. The time series exhibits a seasonal pattern, with sales consistently starting low at the beginning of each year and peaking at the year's end. Within each individual year, there is a consistent upward trend, interspersed with a few months of lower sales in the middle of the year.\n",
        "\n",
        "Time Series decomposition allows us to decompose our time series into three distinct components: trend, seasonality, and noise.\n",
        "\n",
        "In essence, time decomposition is like taking apart a puzzle to see its individual pieces. It helps us grasp the different elements that contribute to the overall pattern of the time series, leading to a more informed understanding and better decision-making."
      ],
      "metadata": {
        "id": "dMjQ04BpKsOs"
      }
    },
    {
      "cell_type": "code",
      "source": [
        "# Find the different components like trean, seasonal\n"
      ],
      "metadata": {
        "id": "k1UoB6kaKHSY"
      },
      "execution_count": null,
      "outputs": []
    },
    {
      "cell_type": "markdown",
      "source": [
        "### Check for Stationarity\n",
        "\n",
        "This is a very important concept in Time Series Analysis. In order to apply a time series model, it is important for the Time series to be stationary; in other words all its statistical properties (mean,variance) remain constant over time."
      ],
      "metadata": {
        "id": "KDPkc12vMyvu"
      }
    },
    {
      "cell_type": "code",
      "source": [
        "from statsmodels.tsa.stattools import adfuller\n",
        "def test_stationarity(timeseries):\n",
        "\n",
        "    #Determing rolling statistics\n",
        "    rolmean = timeseries.rolling(window=12).mean()\n",
        "    rolstd = timeseries.rolling(window=12).std()\n",
        "    #Plot rolling statistics:\n",
        "    plt.plot(timeseries, color='blue',label='Original')\n",
        "    plt.plot(rolmean, color='red', label='Rolling Mean')\n",
        "    plt.plot(rolstd, color='black', label = 'Rolling Std')\n",
        "    plt.legend(loc='best')\n",
        "    plt.title('Rolling Mean & Standard Deviation')\n",
        "    plt.show()\n",
        "    #Perform Dickey-Fuller test:\n",
        "    print('Results of Dickey-Fuller Test:')\n",
        "    dftest = adfuller(timeseries, autolag='AIC')\n",
        "    dfoutput = pd.Series(dftest[0:4], index=['Test Statistic','p-value','#Lags Used','Number of Observations Used'])\n",
        "    for key,value in dftest[4].items():\n",
        "        dfoutput['Critical Value (%s)'%key] = value\n",
        "    print(dfoutput)"
      ],
      "metadata": {
        "id": "Ab9YHaZ4L1KQ"
      },
      "execution_count": null,
      "outputs": []
    },
    {
      "cell_type": "code",
      "source": [
        "# Using above function, pass you time series data, check if the p-value is less than 0.05\n",
        "\n"
      ],
      "metadata": {
        "id": "4MWdFpKrM5qg"
      },
      "execution_count": null,
      "outputs": []
    },
    {
      "cell_type": "markdown",
      "source": [
        "## Time series forecasting with ARIMA\n",
        "\n",
        "ARIMA models are denoted with the notation ARIMA(p, d, q). These three parameters account for seasonality, trend, and noise in data."
      ],
      "metadata": {
        "id": "bEOFUpPxXPu6"
      }
    },
    {
      "cell_type": "code",
      "source": [
        "p = d = q = range(0, 2)\n",
        "pdq = list(itertools.product(p, d, q))\n",
        "seasonal_pdq = [(x[0], x[1], x[2], 12) for x in list(itertools.product(p, d, q))]\n",
        "print('Examples of parameter combinations for Seasonal ARIMA...')\n",
        "print('SARIMAX: {} x {}'.format(pdq[1], seasonal_pdq[1]))\n",
        "print('SARIMAX: {} x {}'.format(pdq[1], seasonal_pdq[2]))\n",
        "print('SARIMAX: {} x {}'.format(pdq[2], seasonal_pdq[3]))\n",
        "print('SARIMAX: {} x {}'.format(pdq[2], seasonal_pdq[4]))"
      ],
      "metadata": {
        "id": "jtDrz6IDXACr"
      },
      "execution_count": null,
      "outputs": []
    },
    {
      "cell_type": "code",
      "source": [
        "for param in pdq:\n",
        "    for param_seasonal in seasonal_pdq:\n",
        "\n",
        "      try:\n",
        "          mod = sm.tsa.statespace.SARIMAX( ,   # pass you timeseries datafrmae\n",
        "                                          order=param,\n",
        "                                          seasonal_order=param_seasonal,\n",
        "                                          enforce_stationarity=False,\n",
        "                                          enforce_invertibility=False)\n",
        "          results = mod.fit()\n",
        "\n",
        "          print('ARIMA{}x{}12 - AIC:{}'.format(param, param_seasonal, results.aic))\n",
        "      except:\n",
        "          continue"
      ],
      "metadata": {
        "id": "B4Qmw7HUXufe"
      },
      "execution_count": null,
      "outputs": []
    },
    {
      "cell_type": "markdown",
      "source": [
        "#### From Above output check which AIC yields the lowest value.\n",
        "\n"
      ],
      "metadata": {
        "id": "F9Ie9jL4Y2eB"
      }
    },
    {
      "cell_type": "markdown",
      "source": [
        "## Fitting the ARIMA model"
      ],
      "metadata": {
        "id": "dW_X17V0ZFUe"
      }
    },
    {
      "cell_type": "code",
      "source": [
        "# Use the AIC values and pass them in order and seasonal order\n",
        "mod = sm.tsa.statespace.SARIMAX(df_office,\n",
        "                                order= ,\n",
        "                                seasonal_order= ,\n",
        "                                enforce_stationarity=False,\n",
        "                                enforce_invertibility=False)\n",
        "results = mod.fit()\n",
        "print(results.summary().tables[1])"
      ],
      "metadata": {
        "id": "DcQl8W01X6zc"
      },
      "execution_count": null,
      "outputs": []
    },
    {
      "cell_type": "code",
      "source": [
        "# Predict the office supplies for year 2014\n",
        "pred = results.get_prediction(start=pd.to_datetime(' '), dynamic=False)\n",
        "pred_ci = pred.conf_int()\n",
        "\n",
        "#pass you TS dataframe\n",
        "ax = Pass_TS_Dataframe['2011':].plot(label='observed')\n",
        "\n",
        "pred.predicted_mean.plot(ax=ax, label='One-step ahead Forecast', alpha=.7, figsize=(14, 7))\n",
        "ax.fill_between(pred_ci.index,\n",
        "                pred_ci.iloc[:, 0],\n",
        "                pred_ci.iloc[:, 1], color='k', alpha=.2)\n",
        "ax.set_xlabel('Date')\n",
        "ax.set_ylabel('Furniture Sales')\n",
        "plt.legend()\n",
        "plt.show()"
      ],
      "metadata": {
        "id": "FVSQhSEmZKz1"
      },
      "execution_count": null,
      "outputs": []
    }
  ]
}